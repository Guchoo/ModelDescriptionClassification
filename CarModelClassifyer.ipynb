{
 "cells": [
  {
   "cell_type": "markdown",
   "metadata": {},
   "source": [
    "# Text Classification Demo\n",
    "\n",
    "To test a text classification to see if it can match IFS PartNo with G+ types"
   ]
  },
  {
   "cell_type": "code",
   "execution_count": 5,
   "metadata": {
    "collapsed": false
   },
   "outputs": [],
   "source": [
    "# use natural language toolkit\n",
    "import nltk\n",
    "from nltk.corpus import stopwords\n",
    "\n",
    "import pandas as pd\n",
    "import csv\n",
    "from sklearn import preprocessing\n",
    "import re\n",
    "from sklearn.metrics import confusion_matrix\n",
    "import itertools\n",
    "import numpy as np\n",
    "import matplotlib.pyplot as plt"
   ]
  },
  {
   "cell_type": "markdown",
   "metadata": {},
   "source": [
    "### Import Training Data\n",
    "\n",
    "Contains Class as PartNo, Sentence as ModelDescription. \n",
    "Convert to DataFrame"
   ]
  },
  {
   "cell_type": "code",
   "execution_count": 16,
   "metadata": {
    "collapsed": false
   },
   "outputs": [],
   "source": [
    "trainingData = pd.read_csv('..\\\\DatasetForTesting\\\\Train_Mer_AKlasse_ModelDesc.csv', sep =';')\n",
    "#print(trainingData)"
   ]
  },
  {
   "cell_type": "code",
   "execution_count": 7,
   "metadata": {
    "collapsed": false
   },
   "outputs": [],
   "source": [
    "#Helping classes\n",
    "\n",
    "def hasNumbers(inputString):\n",
    "    return any(char.isdigit() for char in inputString)\n",
    "\n",
    "def splitting(inputstring):\n",
    "    items = []\n",
    "    #Matches on strings that starts with a letter and contains numbers. \n",
    "    match = re.match(r\"([a-z]+)([0-9]+)([a-z]+)?\", inputstring, re.I)\n",
    "    if match:\n",
    "        for group in match.groups():\n",
    "            if group is not None:\n",
    "                items.append(group)\n",
    "        return items"
   ]
  },
  {
   "cell_type": "code",
   "execution_count": 8,
   "metadata": {
    "collapsed": false
   },
   "outputs": [
    {
     "name": "stdout",
     "output_type": "stream",
     "text": [
      "Class words: {'A250 4M': ['mercedes-benz', 'a-klasse', 'a250', '4matic', 'a', '250', 'mercedes-benz', 'a-klasse', 'a250', '4m', 'a', '250'], 'AMG A35 4M': ['mercedes-benz', 'a-klasse', 'amg', 'a35', '4m', 'a', '35'], 'AMG GT 43': ['mercedes-benz', 'amg', 'amg', 'gt', '43', '4matic+'], 'AMG GT 63 S': ['mercedes-benz', 'amg', 'amg', 'gt', '63', 's', '4matic+'], 'A200CDI': ['mercedes-benz', 'a-klasse', 'a200d', 'a', '200', 'd', 'mercedes-benz', 'a-klasse', 'a200cdi', 'a', '200', 'cdi'], 'A180 AMGP': ['mercedes-benz', 'a-klasse', 'a180', 'amg', 'edition', 'plus', 'a', '180'], 'AMG GT C': ['mercedes-benz', 'amg', 'gt', 'amg', 'gt', 'c'], 'A200 PRO': ['mercedes-benz', 'a-klasse', 'a200', 'pro', 'a', '200'], 'A200 PROP': ['mercedes-benz', 'a-klasse', 'a200', 'prop', 'a', '200'], 'AMG GT C C': ['mercedes-benz', 'amg', 'amg', 'gt', 'c', 'coupe'], 'AMG GT 53': ['mercedes-benz', 'amg', 'amg', 'gt', '53', '4matic+'], 'AMG GT': ['mercedes-benz', 'amg', 'gt', 'amg', 'gt'], 'A160CDI': ['mercedes-benz', 'a-klasse', 'a160cdi', 'a', '160', 'cdi', 'mercedes-benz', 'a-klasse', 'a160d', 'a', '160', 'd'], 'A250 SPORT 4M': ['mercedes-benz', 'a-klasse', 'a250', 'sport', '4matic', 'a', '250', 'mercedes-benz', 'a-klasse', 'a250', 'sport', '4m', 'a', '250'], 'A160': ['mercedes-benz', 'a-klasse', 'a160', 'a', '160'], 'A200CDI 4M': ['mercedes-benz', 'a-klasse', 'a200cdi', '4m', 'a', '200', 'cdi', 'mercedes-benz', 'a-klasse', 'a200cdi', '4matic', 'a', '200', 'cdi'], 'AMG GT ROAD': ['mercedes-benz', 'amg', 'gt', 'amg', 'gt', 'road'], 'A180 AMG': ['mercedes-benz', 'a-klasse', 'a180', 'amg', 'edition', 'a', '180'], 'AMG GT 63': ['mercedes-benz', 'amg', 'amg', 'gt', '63', '4matic+'], 'AMG GT R': ['mercedes-benz', 'amg', 'gt', 'amg', 'gt', 'r'], 'A200 SE': ['mercedes-benz', 'a-klasse', 'a200', 'sedan', 'a', '200'], 'A220 4M': ['mercedes-benz', 'a-klasse', 'a220', '4m', 'a', '220', 'mercedes-benz', 'a-klasse', 'a220', '4matic', 'a', '220'], 'A180CDI': ['mercedes-benz', 'a-klasse', 'a180cdi', 'a', '180', 'cdi'], 'A180': ['mercedes-benz', 'a-klasse', 'a180', 'a', '180'], 'A200 AMG': ['mercedes-benz', 'a-klasse', 'a200', 'amg', 'edition', 'a', '200', 'mercedes-benz', 'a-klasse', 'a200', 'amg', 'a', '200'], 'AMG GT S': ['mercedes-benz', 'amg', 'gt', 'amg', 'gt', 's'], 'A200': ['mercedes-benz', 'a-klasse', 'a200', 'a', '200'], 'A45AMG': ['mercedes-benz', 'a-klasse', 'a45amg', 'a', '45', 'amg'], 'A220CDI': ['mercedes-benz', 'a-klasse', 'a220cdi', 'a', '220', 'cdi'], 'A180D': ['mercedes-benz', 'a-klasse', 'a180d', 'a', '180', 'd'], 'A200 AMGP': ['mercedes-benz', 'a-klasse', 'a200', 'amg', 'edition', 'plus', 'a', '200', 'mercedes-benz', 'a-klasse', 'a200', 'amgp', 'a', '200'], 'A250': ['mercedes-benz', 'a-klasse', 'a250', 'a', '250'], 'A220CDI 4M': ['mercedes-benz', 'a-klasse', 'a220d', '4m', 'a', '220', 'd', 'mercedes-benz', 'a-klasse', 'a220cdi', '4m', 'a', '220', 'cdi']}\n"
     ]
    }
   ],
   "source": [
    "# capture unique words in the training corpus\n",
    "corpus_words = {}\n",
    "class_words = {}\n",
    "# turn a list into a set (of unique items) and then a list again (this removes duplicates)\n",
    "classes = list(set([row['PartNo'] for index, row in trainingData.iterrows()]))\n",
    "\n",
    "for c in classes:\n",
    "    # prepare a list of words within each class\n",
    "    class_words[c] = []\n",
    "\n",
    "# loop through each sentence in our training data\n",
    "for index, row in trainingData.iterrows():\n",
    "    # tokenize each sentence into words\n",
    "    word_tokenized = nltk.word_tokenize(row['ModelDescription'])\n",
    "    \n",
    "    for word in word_tokenized:               \n",
    "        #lowercase each word\n",
    "        word_lower = word.lower()\n",
    "        \n",
    "        #check if word contains letters and numbers, and are longer than 2\n",
    "        if hasNumbers(word_lower) and len(word_lower) > 2:\n",
    "            #Splitt into separate words\n",
    "            new_words = splitting(word_lower)\n",
    "            if new_words is not None:\n",
    "                for w in new_words:\n",
    "                    word_tokenized.append(w)\n",
    "            \n",
    "        # have we not seen this word already?\n",
    "        if word_lower not in corpus_words:\n",
    "            corpus_words[word_lower] = 1\n",
    "        else:\n",
    "            corpus_words[word_lower] += 1\n",
    "\n",
    "        # add the word to our words in class list\n",
    "        class_words[row['PartNo']].extend([word_lower])\n",
    "\n",
    "# we now have each stemmed word and the number of occurances of the word in our training corpus (the word's commonality)\n",
    "#print (\"Corpus words and counts: %s \\n\" % corpus_words)\n",
    "# also we have all words in each class\n",
    "print (\"Class words: %s\" % class_words)"
   ]
  },
  {
   "cell_type": "code",
   "execution_count": 9,
   "metadata": {
    "collapsed": false
   },
   "outputs": [
    {
     "name": "stdout",
     "output_type": "stream",
     "text": [
      "Class words: ['mercedes-benz', 'a-klasse', 'a200cdi', '4m', 'a', '200', 'cdi', 'mercedes-benz', 'a-klasse', 'a200cdi', '4matic', 'a', '200', 'cdi']\n"
     ]
    }
   ],
   "source": [
    "print (\"Class words: %s\" % class_words['A200CDI 4M'])"
   ]
  },
  {
   "cell_type": "code",
   "execution_count": 10,
   "metadata": {
    "collapsed": true
   },
   "outputs": [],
   "source": [
    "# calculate a score for a given class taking into account word commonality\n",
    "def calculate_class_score_commonality(sentence, class_name, show_details=False):\n",
    "    score = 0\n",
    "    # tokenize each word in our new sentence\n",
    "    for word in nltk.word_tokenize(sentence):\n",
    "        # check to see if the stem of the word is in any of our classes\n",
    "        if word.lower() in class_words[class_name]:\n",
    "            # treat each word with relative weight\n",
    "            score += (1 / corpus_words[word.lower()])\n",
    "\n",
    "            if show_details:\n",
    "                print(\"class_name: \", class_name)\n",
    "                print (\"   match: %s (%s)\" % (word.lower(), 1 / corpus_words[word.lower()]))\n",
    "    return score"
   ]
  },
  {
   "cell_type": "code",
   "execution_count": 11,
   "metadata": {
    "collapsed": false
   },
   "outputs": [],
   "source": [
    "# return the class with highest score for sentence\n",
    "def classify(sentence, details=False):\n",
    "    high_class = None\n",
    "    high_score = 0\n",
    "    # loop through our classes\n",
    "    for c in class_words.keys():\n",
    "        # calculate score of sentence for each class\n",
    "        score = calculate_class_score_commonality(sentence, c, show_details=details)\n",
    "        # keep track of highest score\n",
    "        if score > high_score:\n",
    "            high_class = c\n",
    "            high_score = score\n",
    "\n",
    "    #return high_class, high_score\n",
    "    return {\"class\":high_class, \"score\":high_score, \"sentence\": sentence}"
   ]
  },
  {
   "cell_type": "markdown",
   "metadata": {},
   "source": [
    "### Test the solution"
   ]
  },
  {
   "cell_type": "code",
   "execution_count": 12,
   "metadata": {
    "collapsed": false
   },
   "outputs": [
    {
     "data": {
      "text/plain": [
       "{'class': 'A250 4M', 'score': 0.45, 'sentence': 'A250 4MATIC aut'}"
      ]
     },
     "execution_count": 12,
     "metadata": {},
     "output_type": "execute_result"
    }
   ],
   "source": [
    "#classify(\"Citroen Berlingo BHDi PROFF 100 man. L1\")\n",
    "classify(\"A250 4MATIC aut\", False)"
   ]
  },
  {
   "cell_type": "markdown",
   "metadata": {},
   "source": [
    "## Create Test Set"
   ]
  },
  {
   "cell_type": "code",
   "execution_count": 76,
   "metadata": {
    "collapsed": false
   },
   "outputs": [
    {
     "name": "stdout",
     "output_type": "stream",
     "text": [
      "77\n",
      "['A160 aut', 'A160 aut', 'A160 aut', 'A160', 'A160', 'A160', 'A160d aut', 'A160d aut', 'A160d aut', 'A160d', 'A160d', 'A160d', 'A180 aut', 'A180 aut', 'A180 aut', 'A180', 'A180', 'A180', 'A180d aut Kombicoupe', 'A180d aut Kombicoupe', 'A180d aut', 'A180d aut', 'A180d', 'A180d', 'A180d', 'A200 AMG Edition aut (K)', 'A200 AMG Edition aut', 'A200 AMG Edition Plus aut (K)', 'A200 AMG Edition Plus aut', 'A200 aut Kombicoupe', 'A200 aut Kombicoupe', 'A200 aut', 'A200 aut', 'A200 Progressive Edition aut (K)', 'A200 Progressive Edition aut', 'A200 Progressive Edition Plus aut (K)', 'A200 Progressive Edition Plus aut', 'A200', 'A200', 'A200', 'A200d 4MATIC aut', 'A200d 4MATIC aut', 'A200d 4MATIC aut', 'A200d aut', 'A200d aut', 'A200d aut', 'A200d', 'A200d', 'A200d', 'A220 4MATIC', 'A220 4MATIC', 'A220 4MATIC', 'A220d 4MATIC aut', 'A220d 4MATIC aut', 'A220d 4MATIC aut', 'A220d', 'A220d', 'A220d', 'A250 4MATIC aut', 'A250 4MATIC aut', 'A250 4MATIC aut', 'A250 aut Kombicoupe', 'A250 aut Kombicoupe', 'A250 aut', 'A250 aut', 'A250 Sport 4MATIC aut.', 'A250 Sport 4MATIC aut.', 'A250 Sport 4MATIC aut.', 'A250 Sport aut', 'A250 Sport aut', 'A250 Sport aut', 'A250 Sport', 'A250 Sport', 'A250 Sport', 'A250', 'A250', 'A250']\n"
     ]
    }
   ],
   "source": [
    "spamReader = csv.reader(open('..\\\\DatasetForTesting\\\\Test_Gjensidige_MerAKlasse_With_Classes.csv', \n",
    "                            newline=''), delimiter=';', quotechar='|')\n",
    "\n",
    "test_data = []\n",
    "\n",
    "for row in spamReader:\n",
    "    #ModelDesc is first row\n",
    "    test_data.append(row[0])\n",
    "\n",
    "#remove frist class as it is the csv headers\n",
    "del test_data[0]\n",
    "\n",
    "print(len(test_data))\n",
    "print(test_data)"
   ]
  },
  {
   "cell_type": "markdown",
   "metadata": {},
   "source": [
    "## Score the model "
   ]
  },
  {
   "cell_type": "code",
   "execution_count": 77,
   "metadata": {
    "collapsed": false
   },
   "outputs": [
    {
     "name": "stdout",
     "output_type": "stream",
     "text": [
      "            class     score                       sentence\n",
      "0            A160  1.000000                       A160 aut\n",
      "1            A160  1.000000                       A160 aut\n",
      "2            A160  1.000000                       A160 aut\n",
      "3            A160  1.000000                           A160\n",
      "4            A160  1.000000                           A160\n",
      "5            A160  1.000000                           A160\n",
      "6         A160CDI  1.000000                      A160d aut\n",
      "7         A160CDI  1.000000                      A160d aut\n",
      "8         A160CDI  1.000000                      A160d aut\n",
      "9         A160CDI  1.000000                          A160d\n",
      "10        A160CDI  1.000000                          A160d\n",
      "11        A160CDI  1.000000                          A160d\n",
      "12       A180 AMG  0.333333                       A180 aut\n",
      "13       A180 AMG  0.333333                       A180 aut\n",
      "14       A180 AMG  0.333333                       A180 aut\n",
      "15       A180 AMG  0.333333                           A180\n",
      "16       A180 AMG  0.333333                           A180\n",
      "17       A180 AMG  0.333333                           A180\n",
      "18          A180D  1.000000           A180d aut Kombicoupe\n",
      "19          A180D  1.000000           A180d aut Kombicoupe\n",
      "20          A180D  1.000000                      A180d aut\n",
      "21          A180D  1.000000                      A180d aut\n",
      "22          A180D  1.000000                          A180d\n",
      "23          A180D  1.000000                          A180d\n",
      "24          A180D  1.000000                          A180d\n",
      "25      A200 AMGP  0.412037       A200 AMG Edition aut (K)\n",
      "26      A200 AMGP  0.412037           A200 AMG Edition aut\n",
      "27      A200 AMGP  0.912037  A200 AMG Edition Plus aut (K)\n",
      "28      A200 AMGP  0.912037      A200 AMG Edition Plus aut\n",
      "29      A200 PROP  0.125000            A200 aut Kombicoupe\n",
      "..            ...       ...                            ...\n",
      "47        A200CDI  1.000000                          A200d\n",
      "48        A200CDI  1.000000                          A200d\n",
      "49        A220 4M  0.750000                    A220 4MATIC\n",
      "50        A220 4M  0.750000                    A220 4MATIC\n",
      "51        A220 4M  0.750000                    A220 4MATIC\n",
      "52     A220CDI 4M  1.000000               A220d 4MATIC aut\n",
      "53     A220CDI 4M  1.000000               A220d 4MATIC aut\n",
      "54     A220CDI 4M  1.000000               A220d 4MATIC aut\n",
      "55     A220CDI 4M  1.000000                          A220d\n",
      "56     A220CDI 4M  1.000000                          A220d\n",
      "57     A220CDI 4M  1.000000                          A220d\n",
      "58        A250 4M  0.450000                A250 4MATIC aut\n",
      "59        A250 4M  0.450000                A250 4MATIC aut\n",
      "60        A250 4M  0.450000                A250 4MATIC aut\n",
      "61        A250 4M  0.200000            A250 aut Kombicoupe\n",
      "62        A250 4M  0.200000            A250 aut Kombicoupe\n",
      "63        A250 4M  0.200000                       A250 aut\n",
      "64        A250 4M  0.200000                       A250 aut\n",
      "65  A250 SPORT 4M  0.950000         A250 Sport 4MATIC aut.\n",
      "66  A250 SPORT 4M  0.950000         A250 Sport 4MATIC aut.\n",
      "67  A250 SPORT 4M  0.950000         A250 Sport 4MATIC aut.\n",
      "68  A250 SPORT 4M  0.700000                 A250 Sport aut\n",
      "69  A250 SPORT 4M  0.700000                 A250 Sport aut\n",
      "70  A250 SPORT 4M  0.700000                 A250 Sport aut\n",
      "71  A250 SPORT 4M  0.700000                     A250 Sport\n",
      "72  A250 SPORT 4M  0.700000                     A250 Sport\n",
      "73  A250 SPORT 4M  0.700000                     A250 Sport\n",
      "74        A250 4M  0.200000                           A250\n",
      "75        A250 4M  0.200000                           A250\n",
      "76        A250 4M  0.200000                           A250\n",
      "\n",
      "[77 rows x 3 columns]\n"
     ]
    }
   ],
   "source": [
    "# Score all test data\n",
    "result = []\n",
    "for s in test_data:\n",
    "    r = classify(s)\n",
    "    result.append(r)\n",
    "\n",
    "\n",
    "df = pd.DataFrame(result)\n",
    "print(df)\n",
    "\n",
    "#Save result\n",
    "#df.to_csv(\"output.csv\",sep = \";\")"
   ]
  },
  {
   "cell_type": "code",
   "execution_count": 78,
   "metadata": {
    "collapsed": false
   },
   "outputs": [
    {
     "name": "stdout",
     "output_type": "stream",
     "text": [
      "Total count: {'A160': 6, 'A160CDI': 6, 'A180 AMG': 6, 'A180D': 7, 'A200 AMGP': 8, 'A200 PROP': 7, 'A200CDI': 9, 'A220 4M': 3, 'A220CDI 4M': 6, 'A250 4M': 10, 'A250 SPORT 4M': 9}\n"
     ]
    }
   ],
   "source": [
    "count = {}\n",
    "\n",
    "for data in result:\n",
    "    c = data['class']\n",
    "    if c not in count:\n",
    "        count[c] = 1\n",
    "    else:\n",
    "        count[c] += 1    \n",
    "        \n",
    "print(\"Total count:\", count)"
   ]
  },
  {
   "cell_type": "markdown",
   "metadata": {},
   "source": [
    "## Evaluate With Confution Matrix\n",
    "### Needs a solution (real class) that must be added manually "
   ]
  },
  {
   "cell_type": "code",
   "execution_count": 79,
   "metadata": {
    "collapsed": false
   },
   "outputs": [
    {
     "name": "stdout",
     "output_type": "stream",
     "text": [
      "18\n",
      "Confusion matrix, without normalization\n"
     ]
    },
    {
     "data": {
      "image/png": "[encoded data removed]",
      "text/plain": [
       "<matplotlib.figure.Figure at 0x2590925d588>"
      ]
     },
     "metadata": {},
     "output_type": "display_data"
    }
   ],
   "source": [
    "gjensidige_classified = pd.read_csv('..\\\\DatasetForTesting\\\\Test_Gjensidige_MerAKlasse_With_Classes.csv',sep=';')\n",
    "\n",
    "#Totalt 16 classer, alle macedes A-klasse\n",
    "#classes = pd.read_csv('C:\\\\Users\\\\godes\\\\Desktop\\\\OFV_REGISTRERINGER_VIN_SAMI\\\\listofClassesfromMercedesGjensidige.csv',sep=',')\n",
    "\n",
    "true = gjensidige_classified['Class'] #the class sett by me\n",
    "pred = df['class'] #the predicted class\n",
    "\n",
    "#Find all uniqr classes used in the prediction.\n",
    "class_names = []  #classes['Class'] # class list\n",
    "\n",
    "for c in true:\n",
    "    if c not in class_names:\n",
    "        class_names.append(c)\n",
    "\n",
    "for c in pred:\n",
    "    if c not in class_names:\n",
    "        class_names.append(c)\n",
    "print(len(class_names))\n",
    "\n",
    "# Compute confusion matrix\n",
    "cnf_matrix = confusion_matrix(true, pred)\n",
    "np.set_printoptions(precision=2)\n",
    "\n",
    "# Plot non-normalized confusion matrix\n",
    "plt.figure(figsize=(15,10))\n",
    "plot_confusion_matrix(cnf_matrix, classes=class_names, title='Confusion matrix, without normalization')\n",
    "\n",
    "# Plot normalized confusion matrix\n",
    "#plt.figure()\n",
    "#plot_confusion_matrix(cnf_matrix, classes=class_names, normalize=True,title='Normalized confusion matrix')\n",
    "\n",
    "plt.show()\n"
   ]
  },
  {
   "cell_type": "code",
   "execution_count": 279,
   "metadata": {
    "collapsed": false
   },
   "outputs": [],
   "source": []
  },
  {
   "cell_type": "code",
   "execution_count": 20,
   "metadata": {
    "collapsed": false
   },
   "outputs": [],
   "source": [
    "\n",
    "def plot_confusion_matrix(cm, classes,\n",
    "                          normalize=False,\n",
    "                          title='Confusion matrix',\n",
    "                          cmap=plt.cm.Blues):\n",
    "    \"\"\"\n",
    "    This function prints and plots the confusion matrix.\n",
    "    Normalization can be applied by setting `normalize=True`.\n",
    "    \"\"\"\n",
    "    if normalize:\n",
    "        cm = cm.astype('float') / cm.sum(axis=1)[:, np.newaxis]\n",
    "        print(\"Normalized confusion matrix\")\n",
    "    else:\n",
    "        print('Confusion matrix, without normalization')\n",
    "\n",
    "    #print(cm)\n",
    "\n",
    "    plt.imshow(cm, interpolation='nearest', cmap=cmap)\n",
    "    plt.title(title)\n",
    "    plt.colorbar()\n",
    "    tick_marks = np.arange(len(classes))\n",
    "    plt.xticks(tick_marks, classes, rotation=45)\n",
    "    plt.yticks(tick_marks, classes)\n",
    "\n",
    "    fmt = '.2f' if normalize else 'd'\n",
    "    thresh = cm.max() / 2.\n",
    "    for i, j in itertools.product(range(cm.shape[0]), range(cm.shape[1])):\n",
    "        plt.text(j, i, format(cm[i, j], fmt),\n",
    "                 horizontalalignment=\"center\",\n",
    "                 color=\"white\" if cm[i, j] > thresh else \"black\")\n",
    "\n",
    "    plt.ylabel('True label')\n",
    "    plt.xlabel('Predicted label')\n",
    "    plt.tight_layout()\n",
    "    "
   ]
  },
  {
   "cell_type": "code",
   "execution_count": 303,
   "metadata": {
    "collapsed": false
   },
   "outputs": [],
   "source": [
    "def normalize(df):\n",
    "    result = df.copy()\n",
    "    for feature_name in df.columns:\n",
    "        max_value = df['score'].max()\n",
    "        min_value = 0 #df['score'].min()\n",
    "        result['score_norm'] = (df['score'] - min_value) / (max_value - min_value)\n",
    "    return result\n"
   ]
  },
  {
   "cell_type": "code",
   "execution_count": 312,
   "metadata": {
    "collapsed": false
   },
   "outputs": [],
   "source": []
  }
 ],
 "metadata": {
  "kernelspec": {
   "display_name": "Python 3",
   "language": "python",
   "name": "python3"
  },
  "language_info": {
   "codemirror_mode": {
    "name": "ipython",
    "version": 3
   },
   "file_extension": ".py",
   "mimetype": "text/x-python",
   "name": "python",
   "nbconvert_exporter": "python",
   "pygments_lexer": "ipython3",
   "version": "3.6.0"
  }
 },
 "nbformat": 4,
 "nbformat_minor": 2
}
