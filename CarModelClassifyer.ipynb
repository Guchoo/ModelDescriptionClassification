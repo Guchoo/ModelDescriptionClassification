{
 "cells": [
  {
   "cell_type": "markdown",
   "metadata": {},
   "source": [
    "# Text Classification Demo\n",
    "\n",
    "To test a text classification to see if it can match IFS PartNo with G+ types"
   ]
  },
  {
   "cell_type": "code",
   "execution_count": 2,
   "metadata": {
    "collapsed": false
   },
   "outputs": [],
   "source": [
    "# use natural language toolkit\n",
    "import nltk\n",
    "from nltk.corpus import stopwords\n",
    "from nltk.stem.lancaster import LancasterStemmer\n",
    "# word stemmer\n",
    "stemmer = LancasterStemmer()\n",
    "\n",
    "import pandas as pd\n",
    "import csv\n",
    "from sklearn import preprocessing"
   ]
  },
  {
   "cell_type": "markdown",
   "metadata": {},
   "source": [
    "### Import Training Data\n",
    "\n",
    "Contains Class as PartNo, Sentence as ModelDescription. \n",
    "Convert to DataFrame"
   ]
  },
  {
   "cell_type": "code",
   "execution_count": 3,
   "metadata": {
    "collapsed": false
   },
   "outputs": [],
   "source": [
    "#trainingData = pd.read_csv('C:\\\\Users\\\\godes\\\\Desktop\\\\OFV_REGISTRERINGER_VIN_SAMI\\\\Mercedes_Code_Description_Ddb.csv', sep =',')\n",
    "trainingData = pd.read_csv('C:\\\\Users\\\\godes\\\\Desktop\\\\OFV_REGISTRERINGER_VIN_SAMI\\\\Mercedes_FullSeries_Description_AddedRows.csv', sep =';')\n",
    "#print(trainingData)"
   ]
  },
  {
   "cell_type": "code",
   "execution_count": 4,
   "metadata": {
    "collapsed": false
   },
   "outputs": [
    {
     "name": "stdout",
     "output_type": "stream",
     "text": [
      "Class words: {'B160CDI': ['mercedes-benz', 'b-klasse', 'b160cdi'], 'GLA180 AMG': ['mercedes-benz', 'gla-klasse', 'gla180', 'amg'], 'G63AMG V': ['mercedes-benz', 'g-wagen', 'g63amg', 'v'], 'S400D L 4M': ['mercedes-benz', 's-klasse', 's400d', 'l', '4m'], 'W516/43L KA   SB': ['mercedes-benz', 'sprinter', 'w516/43l', 'ka', 'sb'], 'V119PRO A2 4M SP': ['mercedes-benz', 'vito', 'v119pro', 'a2', '4m', 'sp'], 'B180CDI T': ['mercedes-benz', 'b-klasse', 'b180cdi', 't'], 'V114 A3       SV': ['mercedes-benz', 'vito', 'v114', 'a3', 'sv'], 'GLC250DC AMGP': ['mercedes-benz', 'glc-klasse', 'glc250dc', 'amgp'], 'A200 AMG': ['mercedes-benz', 'a-klasse', 'a200', 'amg'], 'GLA180 URBP': ['mercedes-benz', 'gla-klasse', 'gla180', 'urbp'], 'AMG GLE43C': ['mercedes-benz', 'gle-klasse', 'amg', 'gle43c'], '319/37 KA     SV': ['mercedes-benz', 'sprinter', '319/37', 'ka', 'sv'], 'AMG SLC43': ['mercedes-benz', 'slc-klasse', 'amg', 'slc43'], 'E200T T': ['mercedes-benz', 'e-klasse', 'e200t', 't'], 'B200NGT': ['mercedes-benz', 'b-klasse', 'b200ngt'], 'AMG GT C C': ['mercedes-benz', 'amg', 'amg', 'gt', 'c', 'coupe'], 'S400C 4M': ['mercedes-benz', 's-klasse', 's400c', '4m'], 'GLC250C AMGP': ['mercedes-benz', 'glc-klasse', 'glc250c', 'amgp'], 'GLA180CDI': ['mercedes-benz', 'gla-klasse', 'gla180cdi'], 'A519/43L BUSS SB': ['mercedes-benz', 'sprinter', 'a519/43l', 'buss', 'sb'], 'E220D 4M AT T': ['mercedes-benz', 'e-klasse', 'e220d', '4m', 'at', 't'], 'V220 AVA A24M ST': ['mercedes-benz', 'viano', 'v220', 'ava', 'a24m', 'st'], 'X250 4X4      SV': ['mercedes-benz', 'x-klasse', 'x250', '4x4', 'sv'], 'A516/43L BUSS SB': ['mercedes-benz', 'sprinter', 'a516/43l', 'buss', 'sb'], 'AMG GT C': ['mercedes-benz', 'amg', 'gt', 'amg', 'gt', 'c'], 'C200T': ['mercedes-benz', 'c-klasse', 'c200t'], 'E220 D T': ['mercedes-benz', 'e-klasse', 'e220', 'd', 't'], 'K316/43 BUSS  SB': ['mercedes-benz', 'sprinter', 'k316/43', 'buss', 'sb'], 'CLS350BT 4M SB': ['mercedes-benz', 'cls-klasse', 'cls350bt', '4m', 'sb'], 'V116PRO A3 4M ST': ['mercedes-benz', 'vito', 'v116pro', 'a3', '4m', 'st'], 'CLA200CDI 4M': ['mercedes-benz', 'cla-klasse', 'cla200cdi', '4m'], 'A516/43 BUSS  SB': ['mercedes-benz', 'sprinter', 'a516/43', 'buss', 'sb'], '313/43 KA     SV': ['mercedes-benz', 'sprinter', '313/43', 'ka', 'sv'], 'SLC180': ['mercedes-benz', 'slc-klasse', 'slc180'], 'GLE400 C': ['mercedes-benz', 'gle-klasse', 'gle400', 'c'], 'GLE63AMG C': ['mercedes-benz', 'gle-klasse', 'gle63amg', 'c'], 'V116PRO A2 A  SP': ['mercedes-benz', 'vito', 'v116pro', 'a2', 'a', 'sp'], 'CLA45AMG SB': ['mercedes-benz', 'cla-klasse', 'cla45amg', 'sb'], 'V250 AVA A34M SV': ['mercedes-benz', 'viano', 'v250', 'ava', 'a34m', 'sv'], '316/37        SV': ['mercedes-benz', 'sprinter', '316/37', 'sv'], 'C112 A2       SV': ['mercedes-benz', 'citan', 'c112', 'a2', 'sv'], 'AMG C43T 4M': ['mercedes-benz', 'c-klasse', 'amg', 'c43t', '4m'], 'V119MIX A3    SP': ['mercedes-benz', 'vito', 'v119mix', 'a3', 'sp'], 'V114PRO A2 A  RP': ['mercedes-benz', 'vito', 'v114pro', 'a2', 'a', 'rp'], '319/37 KA 4X4 SV': ['mercedes-benz', 'sprinter', '319/37', 'ka', '4x4', 'sv'], 'AMG C43CA 4M': ['mercedes-benz', 'c-klasse', 'amg', 'c43ca', '4m'], 'C300D E': ['mercedes-benz', 'c-klasse', 'c300d', 'e'], 'CLS500 4M': ['mercedes-benz', 'cls-klasse', 'cls500', '4m'], 'W316/43 SKAP  SV': ['mercedes-benz', 'sprinter', 'w316/43', 'skap', 'sv'], 'A180': ['mercedes-benz', 'a-klasse', 'a180'], 'AMG S63C 4M': ['mercedes-benz', 's-klasse', 'amg', 's63c', '4m'], '516/43 DOKA   S2': ['mercedes-benz', 'sprinter', '516/43', 'doka', 's2'], 'GLC350E': ['mercedes-benz', 'glc-klasse', 'glc350e'], 'A250 4M': ['mercedes-benz', 'a-klasse', 'a250', '4m'], 'EXPRESS/37 KA SV': ['mercedes-benz', 'sprinter', 'express/37', 'ka', 'sv'], 'C180BT': ['mercedes-benz', 'c-klasse', 'c180bt'], 'CITY/37 KA    SV': ['mercedes-benz', 'sprinter', 'city/37', 'ka', 'sv'], 'C200D T': ['mercedes-benz', 'c-klasse', 'c200d', 'stasjonsvogn'], '319/43 DOKA   SV': ['mercedes-benz', 'sprinter', '319/43', 'doka', 'sv'], '316/43 WESTR  SV': ['mercedes-benz', 'sprinter', '316/43', 'westr', 'sv'], 'S560C 4M': ['mercedes-benz', 's-klasse', 's560c', '4m'], 'GLA250': ['mercedes-benz', 'gla-klasse', 'gla250'], 'GLA220CDI': ['mercedes-benz', 'gla-klasse', 'gla220cdi'], 'GLA250 4M': ['mercedes-benz', 'gla-klasse', 'gla250', '4m'], 'B200NGT T': ['mercedes-benz', 'b-klasse', 'b200ngt', 't'], 'V114PRO A3 A  SP': ['mercedes-benz', 'vito', 'v114pro', 'a3', 'a', 'sp'], 'V250 AVA A3   ST': ['mercedes-benz', 'viano', 'v250', 'ava', 'a3', 'st'], 'W316/37 SKAP  SV': ['mercedes-benz', 'sprinter', 'w316/37', 'skap', 'sv'], '319/43 WESTR  SV': ['mercedes-benz', 'sprinter', '319/43', 'westr', 'sv'], 'C220D 4M C': ['mercedes-benz', 'c-klasse', 'c220d', '4m', 'c'], '319/37 AMBULA AM': ['mercedes-benz', 'sprinter', '319/37', 'ambula', 'am'], 'SL500': ['mercedes-benz', 'sl-klasse', 'sl500'], 'A200 PROP': ['mercedes-benz', 'a-klasse', 'a200', 'prop'], 'V114 A1       SV': ['mercedes-benz', 'vito', 'v114', 'a1', 'sv'], 'V200 AVA A34M ST': ['mercedes-benz', 'viano', 'v200', 'ava', 'a34m', 'st'], 'V116PRO A2 4M SP': ['mercedes-benz', 'vito', 'v116pro', 'a2', '4m', 'sp'], '316/43L KA    SV': ['mercedes-benz', 'sprinter', '316/43l', 'ka', 'sv'], 'AMG GT ROAD': ['mercedes-benz', 'amg', 'gt', 'amg', 'gt', 'road'], 'ENTRY/43 KA   SV': ['mercedes-benz', 'sprinter', 'entry/43', 'ka', 'sv'], 'GLS500': ['mercedes-benz', 'gls-klasse', 'gls500'], '316/37 KO     SP': ['mercedes-benz', 'sprinter', '316/37', 'ko', 'sp'], 'CLS300D': ['mercedes-benz', 'cls-klasse', 'cls300d'], 'GLC250D OFFP': ['mercedes-benz', 'glc-klasse', 'glc250d', 'offp'], 'V250 AVA A24M SP': ['mercedes-benz', 'viano', 'v250', 'ava', 'a24m', 'sp'], 'CLA200': ['mercedes-benz', 'cla-klasse', 'cla200'], 'GLE63AMG S': ['mercedes-benz', 'gle-klasse', 'gle63amg', 's'], 'V250 EXCLIKA2 BG': ['mercedes-benz', 'viano', 'v250', 'exclika2', 'bg'], 'V111 A3       SV': ['mercedes-benz', 'vito', 'v111', 'a3', 'sv'], 'CLS63AMG S': ['mercedes-benz', 'cls-klasse', 'cls63amg', 's'], 'GLS350D': ['mercedes-benz', 'gls-klasse', 'gls350d'], 'CLA200CDI SB': ['mercedes-benz', 'cla-klasse', 'cla200cdi', 'sb'], 'S400D 4M': ['mercedes-benz', 's-klasse', 's400d', '4m'], 'GLS400D': ['mercedes-benz', 'gls-klasse', 'gls400d'], 'V220 AVA A34M ST': ['mercedes-benz', 'viano', 'v220', 'ava', 'a34m', 'st'], 'V250 A2 4M    SP': ['mercedes-benz', 'viano', 'v250', 'a2', '4m', 'sp'], 'CLS500 4M SB': ['mercedes-benz', 'cls-klasse', 'cls500', '4m', 'sb'], 'V119PRO A3 4M RP': ['mercedes-benz', 'vito', 'v119pro', 'a3', '4m', 'rp'], '519/43L KA    SB': ['mercedes-benz', 'sprinter', '519/43l', 'ka', 'sb'], 'E400C 4M': ['mercedes-benz', 'e-klasse', 'e400c', '4m'], 'C109 A3       SV': ['mercedes-benz', 'citan', 'c109', 'a3', 'sv'], 'V116PRO A2 A  RP': ['mercedes-benz', 'vito', 'v116pro', 'a2', 'a', 'rp'], 'B ELECTRIC': ['mercedes-benz', 'b-klasse', 'b', 'electric'], 'E400T D 4M T': ['mercedes-benz', 'e-klasse', 'e400', 'd', '4matic', 'stasjonsvogn', 'taxi'], 'W316/37 KA    SB': ['mercedes-benz', 'sprinter', 'w316/37', 'ka', 'sb'], 'CLA180CDI': ['mercedes-benz', 'cla-klasse', 'cla180cdi'], 'V114MIX A3    SP': ['mercedes-benz', 'vito', 'v114mix', 'a3', 'sp'], 'C111 A3ACTION SV': ['mercedes-benz', 'citan', 'c111', 'a3action', 'sv'], 'E200 T': ['mercedes-benz', 'e-klasse', 'e200', 't'], '519/37 DOKA   S2': ['mercedes-benz', 'sprinter', '519/37', 'doka', 's2'], 'AMG GT R': ['mercedes-benz', 'amg', 'gt', 'amg', 'gt', 'r'], 'AMG E63 4M S': ['mercedes-benz', 'e-klasse', 'amg', 'e63', '4m', 's'], '316/37 KO     RP': ['mercedes-benz', 'sprinter', '316/37', 'ko', 'rp'], '316/43 KA     BU': ['mercedes-benz', 'sprinter', '316/43', 'ka', 'bu'], 'V111MIX A2    SP': ['mercedes-benz', 'vito', 'v111mix', 'a2', 'sp'], 'CLA250': ['mercedes-benz', 'cla-klasse', 'cla250'], 'CLA250 4M': ['mercedes-benz', 'cla-klasse', 'cla250', '4m'], 'AMG E43 4M': ['mercedes-benz', 'e-klasse', 'amg', 'e43', '4m'], 'V116 A3       SV': ['mercedes-benz', 'vito', 'v116', 'a3', 'sv'], 'GLE500 C': ['mercedes-benz', 'gle-klasse', 'gle500', 'c'], 'CLA250 SB 4M': ['mercedes-benz', 'cla-klasse', 'cla250', 'sb', '4m'], 'V114 A1 4M    SV': ['mercedes-benz', 'vito', 'v114', 'a1', '4m', 'sv'], 'AMG GLC63 C S': ['mercedes-benz', 'glc-klasse', 'amg', 'glc63', 'c', 's'], '516/43 KA     S2': ['mercedes-benz', 'sprinter', '516/43', 'ka', 's2'], '416/37 KA     S2': ['mercedes-benz', 'sprinter', '416/37', 'ka', 's2'], 'A200CDI': ['mercedes-benz', 'a-klasse', 'a200cdi'], 'C220BT': ['mercedes-benz', 'c-klasse', 'c220bt'], 'C220TBT': ['mercedes-benz', 'c-klasse', 'c220tbt'], '519/43 KA     AM': ['mercedes-benz', 'sprinter', '519/43', 'ka', 'am'], 'GLC250 AMGP': ['mercedes-benz', 'glc-klasse', 'glc250', '4matic', 'amg', 'edition', 'plus'], 'W316/37 TAXI  ST': ['mercedes-benz', 'sprinter', 'w316/37', 'taxi', 'st'], 'GLA200': ['mercedes-benz', 'gla-klasse', 'gla200'], 'V111PRO A3    RP': ['mercedes-benz', 'vito', 'v111pro', 'a3', 'rp'], '316/37 KA     SB': ['mercedes-benz', 'sprinter', '316/37', 'ka', 'sb'], '316/32 PLAN   SV': ['mercedes-benz', 'sprinter', '316/32', 'plan', 'sv'], 'B220CDI': ['mercedes-benz', 'b-klasse', 'b220cdi'], 'CLA220 4M SB': ['mercedes-benz', 'cla-klasse', 'cla220', '4m', 'sb'], '314/39        SV': ['mercedes-benz', 'sprinter', '314/39', 'sv'], 'AT EDITION P': ['mercedes-benz', 'e-klasse', 'at', 'edition', 'p'], 'B200CDI 4M': ['mercedes-benz', 'b-klasse', 'b200cdi', '4m'], 'GLC250 AMG': ['mercedes-benz', 'glc-klasse', 'glc250', 'amg'], 'A180CDI': ['mercedes-benz', 'a-klasse', 'a180cdi'], '316/37 KA     AM': ['mercedes-benz', 'sprinter', '316/37', 'ka', 'am'], 'E220T D': ['mercedes-benz', 'e-klasse', 'e220t', 'd'], 'A180D': ['mercedes-benz', 'a-klasse', 'a180d'], 'AMG GT 63 S': ['mercedes-benz', 'amg', 'amg', 'gt', '63', 's', '4matic+'], 'E300CA': ['mercedes-benz', 'e-klasse', 'e300ca'], '519/43 KA     SB': ['mercedes-benz', 'sprinter', '519/43', 'ka', 'sb'], 'C200 4M': ['mercedes-benz', 'c-klasse', 'c200', '4m'], 'C250CA': ['mercedes-benz', 'c-klasse', 'c250ca'], 'E200CA 4M': ['mercedes-benz', 'e-klasse', 'e200ca', '4m'], 'AMG S63L 4M': ['mercedes-benz', 's-klasse', 'amg', 's63l', '4m'], 'A160CDI': ['mercedes-benz', 'a-klasse', 'a160cdi'], 'GLE250D': ['mercedes-benz', 'gle-klasse', 'gle250d'], 'V119MIX A2    SP': ['mercedes-benz', 'vito', 'v119mix', 'a2', 'sp'], 'E200': ['mercedes-benz', 'e-klasse', 'e200'], 'CLS250BT': ['mercedes-benz', 'cls-klasse', 'cls250bt'], 'E400T D 4M': ['mercedes-benz', 'e-klasse', 'e400', 'd', '4m', 'stasjonsvogn'], 'CLS350D 4M': ['mercedes-benz', 'cls-klasse', 'cls350d', '4m'], 'S450L 4M': ['mercedes-benz', 's-klasse', 's450l', '4m'], '316/43 KO     RP': ['mercedes-benz', 'sprinter', '316/43', 'ko', 'rp'], 'GLC250D OFF': ['mercedes-benz', 'glc-klasse', 'glc250d', 'off'], 'V116 A2 4M    SV': ['mercedes-benz', 'vito', 'v116', 'a2', '4m', 'sv'], 'V119 A3 4M    SV': ['mercedes-benz', 'vito', 'v119', 'a3', '4m', 'sv'], 'E450T 4M': ['mercedes-benz', 'e-klasse', 'e450', '4matic', 'stasjonsvogn'], 'C111 A3       SV': ['mercedes-benz', 'citan', 'c111', 'a3', 'sv'], 'S500C 4M': ['mercedes-benz', 's-klasse', 's500c', '4m'], '313/37 KA     SV': ['mercedes-benz', 'sprinter', '313/37', 'ka', 'sv'], '516/37 KA     S2': ['mercedes-benz', 'sprinter', '516/37', 'ka', 's2'], 'K516/43L BUSS SB': ['mercedes-benz', 'sprinter', 'k516/43l', 'buss', 'sb'], 'L316/37 SKAP  SV': ['mercedes-benz', 'sprinter', 'l316/37', 'skap', 'sv'], '319/37        SV': ['mercedes-benz', 'sprinter', '319/37', 'sv'], 'V116PRO A3 4M RP': ['mercedes-benz', 'vito', 'v116pro', 'a3', '4m', 'rp'], 'E300T D E': ['mercedes-benz', 'e-klasse', 'e300d', 'e', 'stasjonsvogn'], 'G63AMG': ['mercedes-benz', 'g-wagen', 'g63amg'], '316/37 DOKA   SV': ['mercedes-benz', 'sprinter', '316/37', 'doka', 'sv'], 'V119PRO A3 4M SP': ['mercedes-benz', 'vito', 'v119pro', 'a3', '4m', 'sp'], 'V250 AVA A24M SV': ['mercedes-benz', 'viano', 'v250', 'ava', 'a24m', 'sv'], 'C220D 4M': ['mercedes-benz', 'c-klasse', 'c220d', '4m'], 'B250 4M': ['mercedes-benz', 'b-klasse', 'b250', '4m'], 'AMG C63CA S': ['mercedes-benz', 'c-klasse', 'amg', 'c63ca', 's'], 'E400': ['mercedes-benz', 'e-klasse', 'e400'], 'L516/43 SKAP  S2': ['mercedes-benz', 'sprinter', 'l516/43', 'skap', 's2'], '319/43        SV': ['mercedes-benz', 'sprinter', '319/43', 'sv'], 'G300CDI M': ['mercedes-benz', 'g-wagen', 'g300cdi', 'm'], 'V114PRO A2 4M SP': ['mercedes-benz', 'vito', 'v114pro', 'a2', '4m', 'sp'], 'GLC250D AMG': ['mercedes-benz', 'glc-klasse', 'glc250d', 'amg'], 'V114PRO A1 A  RP': ['mercedes-benz', 'vito', 'v114pro', 'a1', 'a', 'rp'], 'SL65AMG': ['mercedes-benz', 'sl-klasse', 'sl65amg'], '319/37 KA     SB': ['mercedes-benz', 'sprinter', '319/37', 'ka', 'sb'], 'V116PRO A2 4M RP': ['mercedes-benz', 'vito', 'v116pro', 'a2', '4m', 'rp'], 'V114PRO A1 4M RP': ['mercedes-benz', 'vito', 'v114pro', 'a1', '4m', 'rp'], 'V119PRO A3 4M ST': ['mercedes-benz', 'vito', 'v119pro', 'a3', '4m', 'st'], 'V119PRO A2 4M PP': ['mercedes-benz', 'vito', 'v119pro', 'a2', '4m', 'pp'], 'E250.': ['mercedes-benz', 'e-klasse', 'e250', '.'], 'W519/37 BUSS  SB': ['mercedes-benz', 'sprinter', 'w519/37', 'buss', 'sb'], 'C250C': ['mercedes-benz', 'c-klasse', 'c250c'], 'CLA200CDI': ['mercedes-benz', 'cla-klasse', 'cla200cdi'], 'V250 AVA A2   ST': ['mercedes-benz', 'viano', 'v250', 'ava', 'a2', 'st'], 'AMG E53CA 4M': ['mercedes-benz', 'e-klasse', 'amg', 'e53ca', '4m'], 'V111PRO A3    SP': ['mercedes-benz', 'vito', 'v111pro', 'a3', 'sp'], 'S500CA': ['mercedes-benz', 's-klasse', 's500ca'], '516/43L KA    SB': ['mercedes-benz', 'sprinter', '516/43l', 'ka', 'sb'], 'A250 SPORT 4M': ['mercedes-benz', 'a-klasse', 'a250', 'sport', '4m'], 'CLS250BT 4M SB': ['mercedes-benz', 'cls-klasse', 'cls250bt', '4m', 'sb'], 'C300D 4M C': ['mercedes-benz', 'c-klasse', 'c300d', '4m', 'c'], 'CLA180CDI SB': ['mercedes-benz', 'cla-klasse', 'cla180cdi', 'sb'], 'AMG C63T S': ['mercedes-benz', 'c-klasse', 'amg', 'c63t', 's'], '316/37 KO 4X4 RP': ['mercedes-benz', 'sprinter', '316/37', 'ko', '4x4', 'rp'], 'SLS AMG': ['mercedes-benz', 'sls', 'amg', 'sls', 'amg'], 'AMG E63T 4M S': ['mercedes-benz', 'e-klasse', 'amg', 'e63t', '4m', 's'], 'AMG E63 4M': ['mercedes-benz', 'e-klasse', 'amg', 'e63', '4m'], 'V250 AVALIKA3 BG': ['mercedes-benz', 'viano', 'v250', 'avalika3', 'bg'], 'S560CA': ['mercedes-benz', 's-klasse', 's560ca'], 'E220C D': ['mercedes-benz', 'e-klasse', 'e220c', 'd'], '516/43L KA    BU': ['mercedes-benz', 'sprinter', '516/43l', 'ka', 'bu'], 'V114PRO A3    RP': ['mercedes-benz', 'vito', 'v114pro', 'a3', 'rp'], 'E350E AMG': ['mercedes-benz', 'e-klasse', 'e350e', 'amg'], 'W519/37 SKAP  S2': ['mercedes-benz', 'sprinter', 'w519/37', 'skap', 's2'], 'CLA220 4M': ['mercedes-benz', 'cla-klasse', 'cla220', '4m'], 'S350D 4M': ['mercedes-benz', 's-klasse', 's350d', '4m'], '316/43 DOKA   SV': ['mercedes-benz', 'sprinter', '316/43', 'doka', 'sv'], 'L319/43 SKAP  SV': ['mercedes-benz', 'sprinter', 'l319/43', 'skap', 'sv'], 'E400D 4M AT T': ['mercedes-benz', 'e-klasse', 'e400', 'd', '4m', 'all-terrain', 'taxi'], '319/43L KA    SV': ['mercedes-benz', 'sprinter', '319/43l', 'ka', 'sv'], 'V116PRO A3 A  SP': ['mercedes-benz', 'vito', 'v116pro', 'a3', 'a', 'sp'], 'W519/43L BUSS SB': ['mercedes-benz', 'sprinter', 'w519/43l', 'buss', 'sb'], 'EQC400 4M': ['mercedes-benz', 'b-klasse', 'eqc', '400', '4matic'], 'V111PRO A2    RP': ['mercedes-benz', 'vito', 'v111pro', 'a2', 'rp'], 'AMG C43C 4M': ['mercedes-benz', 'c-klasse', 'amg', 'c43c', '4m'], 'E220T D T': ['mercedes-benz', 'e-klasse', 'e220t', 'd', 't'], 'AMG CLS53 4M': ['mercedes-benz', 'cls-klasse', 'amg', 'cls53', '4m'], 'CLS250BT SB': ['mercedes-benz', 'cls-klasse', 'cls250bt', 'sb'], 'E220 D': ['mercedes-benz', 'e-klasse', 'e220', 'd'], 'C220 D': ['mercedes-benz', 'c-klasse', 'c220d'], 'B200': ['mercedes-benz', 'b-klasse', 'b200'], 'GLC250D 4M C': ['mercedes-benz', 'glc-klasse', 'glc250d', '4m', 'c'], 'K316/37 BUSS  SB': ['mercedes-benz', 'sprinter', 'k316/37', 'buss', 'sb'], 'CLA180SB AMG': ['mercedes-benz', 'cla-klasse', 'cla180sb', 'amg'], 'AT EDITION': ['mercedes-benz', 'e-klasse', 'at', 'edition'], 'CLA220CDI SB 4M': ['mercedes-benz', 'cla-klasse', 'cla220cdi', 'sb', '4m'], 'E200T': ['mercedes-benz', 'e-klasse', 'e200t'], 'C300E 4M': ['mercedes-benz', 'c-klasse', 'c300e', '4m'], 'V116MIX A3    SV': ['mercedes-benz', 'vito', 'v116mix', 'a3', 'sv'], 'GLE63AMG S C': ['mercedes-benz', 'gle-klasse', 'gle63amg', 's', 'c'], 'V220 A2 4M    SP': ['mercedes-benz', 'viano', 'v220', 'a2', '4m', 'sp'], 'CLA180 AMGP': ['mercedes-benz', 'cla-klasse', 'cla180', 'amgp'], '519/43L KA    S2': ['mercedes-benz', 'sprinter', '519/43l', 'ka', 's2'], 'G350BT V': ['mercedes-benz', 'g-wagen', 'g350bt', 'v'], 'V116 A1       SV': ['mercedes-benz', 'vito', 'v116', 'a1', 'sv'], 'A200 PRO': ['mercedes-benz', 'a-klasse', 'a200', 'pro'], 'V114PRO A2    SP': ['mercedes-benz', 'vito', 'v114pro', 'a2', 'sp'], 'E200 4M T': ['mercedes-benz', 'e-klasse', 'e200', '4m', 't'], 'CLS220BT SB': ['mercedes-benz', 'cls-klasse', 'cls220bt', 'sb'], 'E220TD4M AMG': ['mercedes-benz', 'e-klasse', 'e220td4m', 'amg'], 'CLA220CDI': ['mercedes-benz', 'cla-klasse', 'cla220cdi'], 'GLC220D 4M C': ['mercedes-benz', 'glc-klasse', 'glc220d', '4m', 'c'], 'B180CDI': ['mercedes-benz', 'b-klasse', 'b180cdi'], '419/37 KA     S2': ['mercedes-benz', 'sprinter', '419/37', 'ka', 's2'], 'AMG GLE43': ['mercedes-benz', 'gle-klasse', 'amg', 'gle43'], 'B200CDI': ['mercedes-benz', 'b-klasse', 'b200cdi'], 'C400 4M': ['mercedes-benz', 'c-klasse', 'c400', '4m'], 'E300D E': ['mercedes-benz', 'e-klasse', 'e300d', 'e', 'sedan'], 'C200': ['mercedes-benz', 'c-klasse', 'c200'], 'CLS63AMG S SB': ['mercedes-benz', 'cls-klasse', 'cls63amg', 's', 'sb'], 'K519/43 BUSS  SB': ['mercedes-benz', 'sprinter', 'k519/43', 'buss', 'sb'], '516/37 DOKA   S2': ['mercedes-benz', 'sprinter', '516/37', 'doka', 's2'], '516/43L KA    S2': ['mercedes-benz', 'sprinter', '516/43l', 'ka', 's2'], 'B220CDI 4M T': ['mercedes-benz', 'b-klasse', 'b220cdi', '4m', 't'], 'C300D T 4M': ['mercedes-benz', 'c-klasse', 'c300d', 't', '4m'], 'GLA220CDI 4M': ['mercedes-benz', 'gla-klasse', 'gla220cdi', '4m'], 'V111 A1       SV': ['mercedes-benz', 'vito', 'v111', 'a1', 'sv'], 'V220 A3 4M    SP': ['mercedes-benz', 'viano', 'v220', 'a3', '4m', 'sp'], '319/43 KA     SV': ['mercedes-benz', 'sprinter', '319/43', 'ka', 'sv'], 'E200T D': ['mercedes-benz', 'e-klasse', 'e200t', 'd'], 'GLE500': ['mercedes-benz', 'gle-klasse', 'gle500'], 'GLA200CDI 4M': ['mercedes-benz', 'gla-klasse', 'gla200cdi', '4m'], 'V114PRO A3 4M RP': ['mercedes-benz', 'vito', 'v114pro', 'a3', '4m', 'rp'], 'GLC220BT 4M': ['mercedes-benz', 'glc-klasse', 'glc220bt', '4m'], 'C300D 4M': ['mercedes-benz', 'c-klasse', 'c300d', '4m'], 'C109 A3ACTION SV': ['mercedes-benz', 'citan', 'c109', 'a3action', 'sv'], 'AMG GT S': ['mercedes-benz', 'amg', 'gt', 'amg', 'gt', 's'], 'V119 A3       SV': ['mercedes-benz', 'vito', 'v119', 'a3', 'sv'], 'CLS400 4M': ['mercedes-benz', 'cls-klasse', 'cls400', '4m'], 'E200 D': ['mercedes-benz', 'e-klasse', 'e200', 'd'], 'V250 AVA A34M SP': ['mercedes-benz', 'viano', 'v250', 'ava', 'a34m', 'sp'], 'EXPRESS/43 KA SV': ['mercedes-benz', 'sprinter', 'express/43', 'ka', 'sv'], 'S560L 4M': ['mercedes-benz', 's-klasse', 's560l', '4m'], '314/37 KA     SV': ['mercedes-benz', 'sprinter', '314/37', 'ka', 'sv'], 'GLC250DC AMG': ['mercedes-benz', 'glc-klasse', 'glc250dc', 'amg'], 'AMG C43 4M': ['mercedes-benz', 'c-klasse', 'amg', 'c43', '4m'], 'E300C': ['mercedes-benz', 'e-klasse', 'e300c'], 'W519/43 SKAP  S2': ['mercedes-benz', 'sprinter', 'w519/43', 'skap', 's2'], 'CLA200CDI SB 4M': ['mercedes-benz', 'cla-klasse', 'cla200cdi', 'sb', '4m'], 'E350T D 4M T': ['mercedes-benz', 'e-klasse', 'e350t', 'd', '4m', 't'], 'GLA180 AMGP': ['mercedes-benz', 'gla-klasse', 'gla180', 'amgp'], '519/43        S2': ['mercedes-benz', 'sprinter', '519/43', 's2'], 'A200 SE': ['mercedes-benz', 'a-klasse', 'a200', 'sedan'], 'GLE350D C': ['mercedes-benz', 'gle-klasse', 'gle350d', 'c'], 'CLA180 AMG': ['mercedes-benz', 'cla-klasse', 'cla180', 'amg'], 'E200 D T': ['mercedes-benz', 'e-klasse', 'e200', 'd', 't'], 'E350 D 4M T': ['mercedes-benz', 'e-klasse', 'e350', 'd', '4m', 't'], 'C220D T': ['mercedes-benz', 'c-klasse', 'c220d', 'stasjonsvogn'], 'E220 D 4M AT': ['mercedes-benz', 'e-klasse', 'e220', 'd', '4m', 'at'], 'V114PRO A3 A  RP': ['mercedes-benz', 'vito', 'v114pro', 'a3', 'a', 'rp'], 'C300CA': ['mercedes-benz', 'c-klasse', 'c300ca'], 'V116PRO A1 4M RP': ['mercedes-benz', 'vito', 'v116pro', 'a1', '4m', 'rp'], 'C200D AUTO': ['mercedes-benz', 'c-klasse', 'c200d', 'auto'], 'V114 A3 4M    SV': ['mercedes-benz', 'vito', 'v114', 'a3', '4m', 'sv'], 'A220 4M': ['mercedes-benz', 'a-klasse', 'a220', '4matic', 'mercedes-benz', 'a-klasse', 'a220d', '4m', 'mercedes-benz', 'a-klasse', 'a220', '4m'], 'E350 D 4M AT': ['mercedes-benz', 'e-klasse', 'e350', 'd', '4m', 'at'], 'AMG C63C S': ['mercedes-benz', 'c-klasse', 'amg', 'c63c', 's'], 'S63AMGC 4M': ['mercedes-benz', 's-klasse', 's63amgc', '4m'], 'V114PRO A2    RP': ['mercedes-benz', 'vito', 'v114pro', 'a2', 'rp'], '319/37 KA     AM': ['mercedes-benz', 'sprinter', '319/37', 'ka', 'am'], 'GLC250D AMGP': ['mercedes-benz', 'glc-klasse', 'glc250d', 'amgp'], 'C250BT': ['mercedes-benz', 'c-klasse', 'c250bt'], 'C200D': ['mercedes-benz', 'c-klasse', 'c200d'], '314/43L KA    SV': ['mercedes-benz', 'sprinter', '314/43l', 'ka', 'sv'], 'E220D': ['mercedes-benz', 'e-klasse', 'e220d'], 'V119PRO A2 4M RP': ['mercedes-benz', 'vito', 'v119pro', 'a2', '4m', 'rp'], 'X350 4X4      SV': ['mercedes-benz', 'x-klasse', 'x350', '4x4', 'sv'], 'C180CA': ['mercedes-benz', 'c-klasse', 'c180ca'], 'V116 A1 4M    SV': ['mercedes-benz', 'vito', 'v116', 'a1', '4m', 'sv'], 'E200 4M': ['mercedes-benz', 'e-klasse', 'e200', '4m'], 'V119PRO A3 A  SP': ['mercedes-benz', 'vito', 'v119pro', 'a3', 'a', 'sp'], '313/32 KA     SV': ['mercedes-benz', 'sprinter', '313/32', 'ka', 'sv'], 'G500': ['mercedes-benz', 'g-wagen', 'g500'], 'AMG GLC43': ['mercedes-benz', 'glc-klasse', 'amg', 'glc43'], '313/37 DOKA   SV': ['mercedes-benz', 'sprinter', '313/37', 'doka', 'sv'], 'GLC250 4M': ['mercedes-benz', 'glc-klasse', 'glc250', '4m'], 'V116MIX A3    SP': ['mercedes-benz', 'vito', 'v116mix', 'a3', 'sp'], 'C220D C': ['mercedes-benz', 'c-klasse', 'c220d', 'c'], 'V119PRO A2 A  ST': ['mercedes-benz', 'vito', 'v119pro', 'a2', 'a', 'st'], 'A180 AMG': ['mercedes-benz', 'a-klasse', 'a180', 'amg', 'edition'], 'A200': ['mercedes-benz', 'a-klasse', 'a200d', 'mercedes-benz', 'a-klasse', 'a200'], '316/32 KA     SV': ['mercedes-benz', 'sprinter', '316/32', 'ka', 'sv'], 'CLA250S': ['mercedes-benz', 'cla-klasse', 'cla250s'], '316/43 KA     SB': ['mercedes-benz', 'sprinter', '316/43', 'ka', 'sb'], 'S65AMGL': ['mercedes-benz', 's-klasse', 's65amgl'], '316/37 KO 4X4 SP': ['mercedes-benz', 'sprinter', '316/37', 'ko', '4x4', 'sp'], 'C111 A2       SV': ['mercedes-benz', 'citan', 'c111', 'a2', 'sv'], 'G500 V': ['mercedes-benz', 'g-wagen', 'g500', 'v'], 'GLE300D': ['mercedes-benz', 'gle-klasse', 'gle300d'], 'AMG E63T 4M': ['mercedes-benz', 'e-klasse', 'amg', 'e63t', '4m'], 'E220 D 4M T': ['mercedes-benz', 'e-klasse', 'e220', 'd', '4m', 't'], 'V114MIX A2    SP': ['mercedes-benz', 'vito', 'v114mix', 'a2', 'sp'], 'C200CA 4M': ['mercedes-benz', 'c-klasse', 'c200ca', '4m'], 'W316/37 BUSS  SB': ['mercedes-benz', 'sprinter', 'w316/37', 'buss', 'sb'], 'CLS450 4M': ['mercedes-benz', 'cls-klasse', 'cls450', '4m'], 'S560L PLUG IN': ['mercedes-benz', 's-klasse', 's560e', 'lang'], 'V220 A3       SP': ['mercedes-benz', 'viano', 'v220', 'a3', 'sp'], 'A160': ['mercedes-benz', 'a-klasse', 'a160d', 'mercedes-benz', 'a-klasse', 'a160'], 'S450C 4M': ['mercedes-benz', 's-klasse', 's450c', '4m'], 'B EL PURE': ['mercedes-benz', 'b-klasse', 'b', 'el', 'pure'], 'CLA220CDI SB': ['mercedes-benz', 'cla-klasse', 'cla220cdi', 'sb'], 'GLC250 4M C': ['mercedes-benz', 'glc-klasse', 'glc250', '4m', 'c'], 'GLC350D 4M': ['mercedes-benz', 'glc-klasse', 'glc350d', '4m'], 'V250 AVA A3   SP': ['mercedes-benz', 'viano', 'v250', 'ava', 'a3', 'sp'], 'C250D 4M C': ['mercedes-benz', 'c-klasse', 'c250d', '4m', 'c'], 'C220D 4M CA': ['mercedes-benz', 'c-klasse', 'c220d', '4m', 'ca'], 'A200 AMGP': ['mercedes-benz', 'a-klasse', 'a200', 'amgp'], 'C250BT 4M': ['mercedes-benz', 'c-klasse', 'c250bt', '4m'], '419/37 AMBULA AM': ['mercedes-benz', 'sprinter', '419/37', 'ambula', 'am'], 'E220TD4M AMGP': ['mercedes-benz', 'e-klasse', 'e220td4m', 'amgp'], 'GLA180': ['mercedes-benz', 'gla-klasse', 'gla180'], 'V114PRO A2 A  SP': ['mercedes-benz', 'vito', 'v114pro', 'a2', 'a', 'sp'], 'E400CA 4M': ['mercedes-benz', 'e-klasse', 'e400ca', '4m'], '519/43 KA     BU': ['mercedes-benz', 'sprinter', '519/43', 'ka', 'bu'], 'L316/43 SKAP  SV': ['mercedes-benz', 'sprinter', 'l316/43', 'skap', 'sv'], 'C200C 4M': ['mercedes-benz', 'c-klasse', 'c200c', '4m'], 'E400 4M': ['mercedes-benz', 'e-klasse', 'e400', '4m'], 'GLE63AMG': ['mercedes-benz', 'gle-klasse', 'gle63amg'], 'V250 AVALIKA2 BG': ['mercedes-benz', 'viano', 'v250', 'avalika2', 'bg'], '313/43L KA    SV': ['mercedes-benz', 'sprinter', '313/43l', 'ka', 'sv'], 'G350BT': ['mercedes-benz', 'g-wagen', 'g350bt'], 'S560 4M': ['mercedes-benz', 's-klasse', 's560', '4m'], 'W519/43 BUSS  SB': ['mercedes-benz', 'sprinter', 'w519/43', 'buss', 'sb'], 'GLE350D': ['mercedes-benz', 'gle-klasse', 'gle350d'], 'V116PRO A3 4M SP': ['mercedes-benz', 'vito', 'v116pro', 'a3', '4m', 'sp'], '319/37 DOKA   SV': ['mercedes-benz', 'sprinter', '319/37', 'doka', 'sv'], 'E200T D T': ['mercedes-benz', 'e-klasse', 'e200t', 'd', 't'], 'E250T': ['mercedes-benz', 'e-klasse', 'e250t'], '314/43 KA     SV': ['mercedes-benz', 'sprinter', '314/43', 'ka', 'sv'], '316/37 DKPLAN SV': ['mercedes-benz', 'sprinter', '316/37', 'dkplan', 'sv'], 'E200C': ['mercedes-benz', 'e-klasse', 'e200c'], '314/32 KO     RP': ['mercedes-benz', 'sprinter', '314/32', 'ko', 'rp'], 'B200CDI 4M T': ['mercedes-benz', 'b-klasse', 'b200cdi', '4m', 't'], 'CLA45AMG': ['mercedes-benz', 'cla-klasse', 'cla45amg'], 'CLS400 4M SB': ['mercedes-benz', 'cls-klasse', 'cls400', '4m', 'sb'], 'S560 4M MAYB': ['mercedes-benz', 's-klasse', 's560', '4m', 'maybach'], 'C200C': ['mercedes-benz', 'c-klasse', 'c200c'], 'V114PRO A3    SP': ['mercedes-benz', 'vito', 'v114pro', 'a3', 'sp'], 'V116PRO A1    SP': ['mercedes-benz', 'vito', 'v116pro', 'a1', 'sp'], '316/43 KA     SV': ['mercedes-benz', 'sprinter', '316/43', 'ka', 'sv'], 'A316/37 TAXI  ST': ['mercedes-benz', 'sprinter', 'a316/37', 'taxi', 'st'], 'V119 A2       SV': ['mercedes-benz', 'vito', 'v119', 'a2', 'sv'], 'E450C 4M': ['mercedes-benz', 'e-klasse', 'e450', '4m', 'coupž'], 'CLA180': ['mercedes-benz', 'cla-klasse', 'cla180'], '316/43PLAN4X4 SV': ['mercedes-benz', 'sprinter', '316/43plan4x4', 'sv'], 'A200CDI 4M': ['mercedes-benz', 'a-klasse', 'a200cdi', '4m', 'mercedes-benz', 'a-klasse', 'a200cdi', '4matic'], 'C250D C': ['mercedes-benz', 'c-klasse', 'c250d', 'c'], 'E350 D 4M': ['mercedes-benz', 'e-klasse', 'e350', 'd', '4m'], '314/33        SV': ['mercedes-benz', 'sprinter', '314/33', 'sv'], 'C350TE': ['mercedes-benz', 'c-klasse', 'c350te'], 'SL400': ['mercedes-benz', 'sl-klasse', 'sl400'], 'V220 AVA A34M SP': ['mercedes-benz', 'viano', 'v220', 'ava', 'a34m', 'sp'], 'B220 4M': ['mercedes-benz', 'b-klasse', 'b220', '4m'], '319/32 KA     SV': ['mercedes-benz', 'sprinter', '319/32', 'ka', 'sv'], 'C109 A2       SV': ['mercedes-benz', 'citan', 'c109', 'a2', 'sv'], 'CLS250BT 4M': ['mercedes-benz', 'cls-klasse', 'cls250bt', '4m'], 'V119PRO A3 A  ST': ['mercedes-benz', 'vito', 'v119pro', 'a3', 'a', 'st'], 'V250 A3 4M    SP': ['mercedes-benz', 'viano', 'v250', 'a3', '4m', 'sp'], 'V250 AVA A14M SP': ['mercedes-benz', 'viano', 'v250', 'ava', 'a14m', 'sp'], 'V250 AVA A24M ST': ['mercedes-benz', 'viano', 'v250', 'ava', 'a24m', 'st'], 'V116 A3 4M    SV': ['mercedes-benz', 'vito', 'v116', 'a3', '4m', 'sv'], 'X220 4X4      SV': ['x220', '4x4', 'sv'], 'AMG C63 S': ['mercedes-benz', 'c-klasse', 'amg', 'c63', 's'], 'AMG C63': ['mercedes-benz', 'c-klasse', 'amg', 'c63'], 'V114PRO A3 4M SP': ['mercedes-benz', 'vito', 'v114pro', 'a3', '4m', 'sp'], 'C109 A2ACTION SV': ['mercedes-benz', 'citan', 'c109', 'a2action', 'sv'], 'K516/43 BUSS  SB': ['mercedes-benz', 'sprinter', 'k516/43', 'buss', 'sb'], 'V116PRO A3    SP': ['mercedes-benz', 'vito', 'v116pro', 'a3', 'sp'], 'SL63AMG': ['mercedes-benz', 'sl-klasse', 'sl63amg'], 'AMG C63T': ['mercedes-benz', 'c-klasse', 'amg', 'c63t'], 'G65AMG V': ['mercedes-benz', 'g-wagen', 'g65amg', 'v'], 'V116PRO A3    RP': ['mercedes-benz', 'vito', 'v116pro', 'a3', 'rp'], 'V250 AVA A2   SP': ['mercedes-benz', 'viano', 'v250', 'ava', 'a2', 'sp'], 'E200T 4M': ['mercedes-benz', 'e-klasse', 'e200t', '4m'], 'AMG GLC43 C': ['mercedes-benz', 'glc-klasse', 'amg', 'glc43', 'c'], 'V119 A1       SV': ['mercedes-benz', 'vito', 'v119', 'a1', 'sv'], 'V119PRO A2 A  RP': ['mercedes-benz', 'vito', 'v119pro', 'a2', 'a', 'rp'], 'V119PRO A3 A  RP': ['mercedes-benz', 'vito', 'v119pro', 'a3', 'a', 'rp'], 'E350E': ['mercedes-benz', 'e-klasse', 'e350e'], 'GLE500E': ['mercedes-benz', 'gle-klasse', 'gle500e'], 'B180': ['mercedes-benz', 'b-klasse', 'b180'], 'W319/43 SKAP  SV': ['mercedes-benz', 'sprinter', 'w319/43', 'skap', 'sv'], 'GLC350EC AMG': ['mercedes-benz', 'glc-klasse', 'glc350ec', 'amg'], '314/37 KO     RP': ['mercedes-benz', 'sprinter', '314/37', 'ko', 'rp'], 'AMG GT 63': ['mercedes-benz', 'amg', 'amg', 'gt', '63', '4matic+'], 'GLE450AMG': ['mercedes-benz', 'gle-klasse', 'gle450amg'], '516/43        S2': ['mercedes-benz', 'sprinter', '516/43', 's2'], 'GLE450': ['mercedes-benz', 'gle-klasse', 'gle450'], 'V114 A2       SV': ['mercedes-benz', 'vito', 'v114', 'a2', 'sv'], 'C180C': ['mercedes-benz', 'c-klasse', 'c180c'], 'W516/43 SKAP  S2': ['mercedes-benz', 'sprinter', 'w516/43', 'skap', 's2'], 'A220CDI 4M': ['mercedes-benz', 'a-klasse', 'a220cdi', '4m'], 'W516/43L BUSS SB': ['mercedes-benz', 'sprinter', 'w516/43l', 'buss', 'sb'], 'SLS AMG R': ['mercedes-benz', 'sls', 'amg', 'sls', 'amg', 'r'], 'B220FC': ['mercedes-benz', 'b-klasse', 'b220fc'], 'S400L HYBRID': ['mercedes-benz', 's-klasse', 's400l', 'hybrid'], '516/43 KA     SB': ['mercedes-benz', 'sprinter', '516/43', 'ka', 'sb'], 'E350 D T': ['mercedes-benz', 'e-klasse', 'e350', 'd', 't'], 'V250 A2 4M    ST': ['mercedes-benz', 'viano', 'v250', 'a2', '4m', 'st'], 'GLC350E AMG': ['mercedes-benz', 'glc-klasse', 'glc350e', 'amg'], 'GLS400': ['mercedes-benz', 'gls-klasse', 'gls400'], 'AMG GT': ['mercedes-benz', 'amg', 'gt', 'amg', 'gt'], 'E350T D 4M': ['mercedes-benz', 'e-klasse', 'e350t', 'd', '4m'], '316/37 KA     SV': ['mercedes-benz', 'sprinter', '316/37', 'ka', 'sv'], 'C350': ['mercedes-benz', 'c-klasse', 'c350'], 'CLA180SB AMGP': ['mercedes-benz', 'cla-klasse', 'cla180sb', 'amgp'], 'E400 D 4M': ['mercedes-benz', 'e-klasse', 'e400', 'd', '4matic'], 'E350 D': ['mercedes-benz', 'e-klasse', 'e350', 'd'], 'C400CA 4M': ['mercedes-benz', 'c-klasse', 'c400ca', '4m'], 'V119 A1 4M    SV': ['mercedes-benz', 'vito', 'v119', 'a1', '4m', 'sv'], 'V220 A2       SP': ['mercedes-benz', 'viano', 'v220', 'a2', 'sp'], 'AMG GLC63 C': ['mercedes-benz', 'glc-klasse', 'amg', 'glc63', 'c'], 'K419/37 BUSS  SB': ['mercedes-benz', 'sprinter', 'k419/37', 'buss', 'sb'], '314/39 KA     SV': ['mercedes-benz', 'sprinter', '314/39', 'ka', 'sv'], 'A250': ['mercedes-benz', 'a-klasse', 'a250'], 'C180T': ['mercedes-benz', 'c-klasse', 'c180t'], 'V220 AVA A2   ST': ['mercedes-benz', 'viano', 'v220', 'ava', 'a2', 'st'], '519/43L KA    BU': ['mercedes-benz', 'sprinter', '519/43l', 'ka', 'bu'], 'W316/37 KO    ST': ['mercedes-benz', 'sprinter', 'w316/37', 'ko', 'st'], '519/43 KA     S2': ['mercedes-benz', 'sprinter', '519/43', 'ka', 's2'], 'S450 4M': ['mercedes-benz', 's-klasse', 's450', '4m'], 'E220CA D': ['mercedes-benz', 'e-klasse', 'e220ca', 'd'], 'V1164X4 GRAND SV': ['mercedes-benz', 'vito', 'v1164x4', 'grand', 'sv'], 'B ELECTRIC ED': ['mercedes-benz', 'b-klasse', 'b', 'electric', 'ed'], '316/37 PLAN   SV': ['mercedes-benz', 'sprinter', '316/37', 'plan', 'sv'], '313/37 KO     RP': ['mercedes-benz', 'sprinter', '313/37', 'ko', 'rp'], '516/43 KA     BU': ['mercedes-benz', 'sprinter', '516/43', 'ka', 'bu'], 'V119PRO A2 4M ST': ['mercedes-benz', 'vito', 'v119pro', 'a2', '4m', 'st'], '316/43 DKPLAN SV': ['mercedes-benz', 'sprinter', '316/43', 'dkplan', 'sv'], 'V111 A2       SV': ['mercedes-benz', 'vito', 'v111', 'a2', 'sv'], 'CLS400D 4M': ['mercedes-benz', 'cls-klasse', 'cls400d', '4m'], 'AMG GT 53': ['mercedes-benz', 'amg', 'amg', 'gt', '53', '4matic+'], 'A180 AMGP': ['mercedes-benz', 'a-klasse', 'a180', 'amg', 'edition', 'plus'], '314/37        SV': ['mercedes-benz', 'sprinter', '314/37', 'sv'], 'GLC350E AMGP': ['mercedes-benz', 'glc-klasse', 'glc350e', 'amgp'], 'C200T 4M': ['mercedes-benz', 'c-klasse', 'c200t', '4m'], 'V119 A2 4M    SV': ['mercedes-benz', 'vito', 'v119', 'a2', '4m', 'sv'], 'E400T 4M': ['mercedes-benz', 'e-klasse', 'e400t', '4m'], 'SLC200': ['mercedes-benz', 'slc-klasse', 'slc200'], 'C180TBT': ['mercedes-benz', 'c-klasse', 'c180tbt'], 'E220T D 4M T': ['mercedes-benz', 'e-klasse', 'e220t', 'd', '4m', 't'], 'B160': ['mercedes-benz', 'b-klasse', 'b160'], 'E200CA': ['mercedes-benz', 'e-klasse', 'e200ca'], 'K519/43L BUSS SB': ['mercedes-benz', 'sprinter', 'k519/43l', 'buss', 'sb'], '316/43 PLAN   SV': ['mercedes-benz', 'sprinter', '316/43', 'plan', 'sv'], 'AMG GLC63 S': ['mercedes-benz', 'glc-klasse', 'amg', 'glc63', 's'], 'V250 EXC A24M SP': ['mercedes-benz', 'viano', 'v250', 'exc', 'a24m', 'sp'], 'AMG S63CA 4M': ['mercedes-benz', 's-klasse', 'amg', 's63ca', '4m'], 'C350E': ['mercedes-benz', 'c-klasse', 'c350e'], 'A220CDI': ['mercedes-benz', 'a-klasse', 'a220cdi'], 'V250 AVA A34M ST': ['mercedes-benz', 'viano', 'v250', 'ava', 'a34m', 'st'], 'AMG E43T 4M': ['mercedes-benz', 'e-klasse', 'amg', 'e43t', '4m'], 'B200CDI T': ['mercedes-benz', 'b-klasse', 'b200cdi', 't'], 'C220TBT 4M': ['mercedes-benz', 'c-klasse', 'c220tbt', '4m'], 'CLA180 SB': ['mercedes-benz', 'cla-klasse', 'cla180', 'sb'], 'ENTRY/37 KA   SV': ['mercedes-benz', 'sprinter', 'entry/37', 'ka', 'sv'], 'V119PRO A3 4M PP': ['mercedes-benz', 'vito', 'v119pro', 'a3', '4m', 'pp'], 'V119PRO A2 A  SP': ['mercedes-benz', 'vito', 'v119pro', 'a2', 'a', 'sp'], 'V114PRO A2 4M RP': ['mercedes-benz', 'vito', 'v114pro', 'a2', '4m', 'rp'], 'GLE300D E': ['mercedes-benz', 'gle-klasse', 'gle300d', 'e'], 'C200BT': ['mercedes-benz', 'c-klasse', 'c200bt'], '519/37        S2': ['mercedes-benz', 'sprinter', '519/37', 's2'], 'V119PRO A1 4M RP': ['mercedes-benz', 'vito', 'v119pro', 'a1', '4m', 'rp'], 'GLA220 4M': ['mercedes-benz', 'gla-klasse', 'gla220', '4m'], 'E220C D 4M': ['mercedes-benz', 'e-klasse', 'e220c', 'd', '4m'], 'S63AMGCA 4M': ['mercedes-benz', 's-klasse', 's63amgca', '4m'], 'CLS220BT': ['mercedes-benz', 'cls-klasse', 'cls220bt'], 'V220 AVA A3   ST': ['mercedes-benz', 'viano', 'v220', 'ava', 'a3', 'st'], 'V119MIX A3    SV': ['mercedes-benz', 'vito', 'v119mix', 'a3', 'sv'], 'AMG E53T 4M': ['mercedes-benz', 'e-klasse', 'amg', 'e53t', '4m'], '316/37 KA DHL SV': ['mercedes-benz', 'sprinter', '316/37', 'ka', 'dhl', 'sv'], 'L519/43 SKAP  S2': ['mercedes-benz', 'sprinter', 'l519/43', 'skap', 's2'], 'V116MIX A2    SP': ['mercedes-benz', 'vito', 'v116mix', 'a2', 'sp'], 'CLS63AMG SB': ['mercedes-benz', 'cls-klasse', 'cls63amg', 'sb'], 'E400 D 4M AT': ['mercedes-benz', 'e-klasse', 'e400', 'd', '4m', 'at'], 'C220D T 4M': ['mercedes-benz', 'c-klasse', 'c220d', 't', '4m'], '519/43 DOKA   S2': ['mercedes-benz', 'sprinter', '519/43', 'doka', 's2'], 'S560L': ['mercedes-benz', 's-klasse', 's560l'], 'C300C': ['mercedes-benz', 'c-klasse', 'c300c'], 'S350DL 4M': ['mercedes-benz', 's-klasse', 's350dl', '4m'], '316/32 KO     RP': ['mercedes-benz', 'sprinter', '316/32', 'ko', 'rp'], 'S400 4M': ['mercedes-benz', 's-klasse', 's400', '4m'], '313/37        SV': ['mercedes-benz', 'sprinter', '313/37', 'sv'], '316/43L KA4X4 SV': ['mercedes-benz', 'sprinter', '316/43l', 'ka4x4', 'sv'], 'GLC350D 4M C': ['mercedes-benz', 'glc-klasse', 'glc350d', '4m', 'c'], '316/43 KA 4X4 SV': ['mercedes-benz', 'sprinter', '316/43', 'ka', '4x4', 'sv'], 'B220CDI T': ['mercedes-benz', 'b-klasse', 'b220cdi', 't'], 'V114PRO A3 A  ST': ['mercedes-benz', 'vito', 'v114pro', 'a3', 'a', 'st'], 'C200TBT': ['mercedes-benz', 'c-klasse', 'c200tbt'], 'K316/37 TAXI  ST': ['mercedes-benz', 'sprinter', 'k316/37', 'taxi', 'st'], 'CLS400': ['mercedes-benz', 'cls-klasse', 'cls400'], 'B220CDI 4M': ['mercedes-benz', 'b-klasse', 'b220cdi', '4m'], 'E220 D 4M': ['mercedes-benz', 'e-klasse', 'e220', 'd', '4m'], '316/37 KA 4X4 SV': ['mercedes-benz', 'sprinter', '316/37', 'ka', '4x4', 'sv'], 'V220 AVA A2   SP': ['mercedes-benz', 'viano', 'v220', 'ava', 'a2', 'sp'], '316/37DKP 4X4 SV': ['mercedes-benz', 'sprinter', '316/37dkp', '4x4', 'sv'], 'V220 AVA A24M SP': ['mercedes-benz', 'viano', 'v220', 'ava', 'a24m', 'sp'], '316/37 KA     BU': ['mercedes-benz', 'sprinter', '316/37', 'ka', 'bu'], '519/37 KA     S2': ['mercedes-benz', 'sprinter', '519/37', 'ka', 's2'], 'V116 A2       SV': ['mercedes-benz', 'vito', 'v116', 'a2', 'sv'], 'E220BT 4M T': ['mercedes-benz', 'e-klasse', 'e220bt', '4m', 't'], 'GLA180 URB': ['mercedes-benz', 'gla-klasse', 'gla180', 'urb'], 'AMG A35 4M': ['mercedes-benz', 'a-klasse', 'amg', 'a35', '4m'], 'V119PRO A1 4M SP': ['mercedes-benz', 'vito', 'v119pro', 'a1', '4m', 'sp'], 'C250': ['mercedes-benz', 'c-klasse', 'c250'], 'E220T D 4M': ['mercedes-benz', 'e-klasse', 'e220t', 'd', '4m'], '313/32 KO     RP': ['mercedes-benz', 'sprinter', '313/32', 'ko', 'rp'], 'AMG GT 43': ['mercedes-benz', 'amg', 'amg', 'gt', '43', '4matic+'], 'CLA200 SB': ['mercedes-benz', 'cla-klasse', 'cla200', 'sb'], 'V111PRO A2    SP': ['mercedes-benz', 'vito', 'v111pro', 'a2', 'sp'], 'CLS350BT 4M': ['mercedes-benz', 'cls-klasse', 'cls350bt', '4m'], 'V220 AVA A3   SP': ['mercedes-benz', 'viano', 'v220', 'ava', 'a3', 'sp'], 'C400C 4M': ['mercedes-benz', 'c-klasse', 'c400c', '4m'], 'C180': ['mercedes-benz', 'c-klasse', 'c180'], 'C200TD AUTO': ['mercedes-benz', 'c-klasse', 'c200td', 'auto'], 'GLA45AMG': ['mercedes-benz', 'gla-klasse', 'gla45amg'], 'E300E': ['mercedes-benz', 'e-klasse', 'e300', 'e', 'sedan'], 'GLC350E OFF': ['mercedes-benz', 'glc-klasse', 'glc350e', 'off'], '316/43        SV': ['mercedes-benz', 'sprinter', '316/43', 'sv'], 'GLA200CDI': ['mercedes-benz', 'gla-klasse', 'gla200cdi'], 'GLC250D 4M': ['mercedes-benz', 'glc-klasse', 'glc250d', '4m'], 'B250DCT': ['mercedes-benz', 'b-klasse', 'b250dct'], 'C111 A2ACTION SV': ['mercedes-benz', 'citan', 'c111', 'a2action', 'sv'], 'A45AMG': ['mercedes-benz', 'a-klasse', 'a45amg'], 'GLC350E C': ['mercedes-benz', 'glc-klasse', 'glc350e', 'c'], '314/37 KO     SP': ['mercedes-benz', 'sprinter', '314/37', 'ko', 'sp'], '213/32 KO     RP': ['mercedes-benz', 'sprinter', '213/32', 'ko', 'rp'], 'GLS63AMG': ['mercedes-benz', 'gls-klasse', 'gls63amg'], 'V116PRO A3 A  ST': ['mercedes-benz', 'vito', 'v116pro', 'a3', 'a', 'st'], 'E350D 4M AT T': ['mercedes-benz', 'e-klasse', 'e350d', '4m', 'at', 't'], 'V116PRO A3 A  RP': ['mercedes-benz', 'vito', 'v116pro', 'a3', 'a', 'rp'], 'C250T': ['mercedes-benz', 'c-klasse', 'c250t'], 'C200CA': ['mercedes-benz', 'c-klasse', 'c200ca'], 'K316/37 KO    ST': ['mercedes-benz', 'sprinter', 'k316/37', 'ko', 'st'], 'V114 A2 4M    SV': ['mercedes-benz', 'vito', 'v114', 'a2', '4m', 'sv'], 'C220BT 4M': ['mercedes-benz', 'c-klasse', 'c220bt', '4m'], 'CLA220CDI 4M': ['mercedes-benz', 'cla-klasse', 'cla220cdi', '4m'], 'W516/43 BUSS  SB': ['mercedes-benz', 'sprinter', 'w516/43', 'buss', 'sb']}\n"
     ]
    }
   ],
   "source": [
    "# capture unique words in the training corpus\n",
    "corpus_words = {}\n",
    "class_words = {}\n",
    "# turn a list into a set (of unique items) and then a list again (this removes duplicates)\n",
    "classes = list(set([row['PartNo'] for index, row in trainingData.iterrows()]))\n",
    "\n",
    "for c in classes:\n",
    "    # prepare a list of words within each class\n",
    "    class_words[c] = []\n",
    "\n",
    "# loop through each sentence in our training data\n",
    "for index, row in trainingData.iterrows():\n",
    "    # tokenize each sentence into words\n",
    "    for word in nltk.word_tokenize(row['ModelDescription']):               \n",
    "        #lowercase each word\n",
    "        word_lower = word.lower()\n",
    "        # have we not seen this word already?\n",
    "        if word_lower not in corpus_words:\n",
    "            corpus_words[word_lower] = 1\n",
    "        else:\n",
    "            corpus_words[word_lower] += 1\n",
    "\n",
    "        # add the word to our words in class list\n",
    "        class_words[row['PartNo']].extend([word_lower])\n",
    "\n",
    "# we now have each stemmed word and the number of occurances of the word in our training corpus (the word's commonality)\n",
    "#print (\"Corpus words and counts: %s \\n\" % corpus_words)\n",
    "# also we have all words in each class\n",
    "print (\"Class words: %s\" % class_words)"
   ]
  },
  {
   "cell_type": "code",
   "execution_count": 10,
   "metadata": {
    "collapsed": false
   },
   "outputs": [
    {
     "name": "stdout",
     "output_type": "stream",
     "text": [
      "Class words: ['mercedes-benz', 'a-klasse', 'a250', 'sport', '4m']\n"
     ]
    }
   ],
   "source": [
    "print (\"Class words: %s\" % class_words['A250 SPORT 4M'])"
   ]
  },
  {
   "cell_type": "code",
   "execution_count": 6,
   "metadata": {
    "collapsed": true
   },
   "outputs": [],
   "source": [
    "# calculate a score for a given class taking into account word commonality\n",
    "def calculate_class_score_commonality(sentence, class_name, show_details=False):\n",
    "    score = 0\n",
    "    # tokenize each word in our new sentence\n",
    "    for word in nltk.word_tokenize(sentence):\n",
    "        # check to see if the stem of the word is in any of our classes\n",
    "        if word.lower() in class_words[class_name]:\n",
    "            # treat each word with relative weight\n",
    "            score += (1 / corpus_words[word.lower()])\n",
    "\n",
    "            if show_details:\n",
    "                print (\"   match: %s (%s)\" % (word.lower(), 1 / corpus_words[word.lower()]))\n",
    "    return score"
   ]
  },
  {
   "cell_type": "code",
   "execution_count": 7,
   "metadata": {
    "collapsed": false
   },
   "outputs": [],
   "source": [
    "# return the class with highest score for sentence\n",
    "def classify(sentence, details=False):\n",
    "    high_class = None\n",
    "    high_score = 0\n",
    "    # loop through our classes\n",
    "    for c in class_words.keys():\n",
    "        # calculate score of sentence for each class\n",
    "        score = calculate_class_score_commonality(sentence, c, show_details=details)\n",
    "        # keep track of highest score\n",
    "        if score > high_score:\n",
    "            high_class = c\n",
    "            high_score = score\n",
    "\n",
    "    #return high_class, high_score\n",
    "    return {\"class\":high_class, \"score\":high_score, \"sentence\": sentence}"
   ]
  },
  {
   "cell_type": "markdown",
   "metadata": {},
   "source": [
    "### Test the solution"
   ]
  },
  {
   "cell_type": "code",
   "execution_count": 8,
   "metadata": {
    "collapsed": false
   },
   "outputs": [
    {
     "data": {
      "text/plain": [
       "{'class': 'A200', 'score': 1.0, 'sentence': 'A200d,'}"
      ]
     },
     "execution_count": 8,
     "metadata": {},
     "output_type": "execute_result"
    }
   ],
   "source": [
    "#classify(\"make me some lunch?\")\n",
    "#classify(\"talk to you tomorrow\")\n",
    "#classify(\"Citroen Berlingo BHDi PROFF 100 man. L1\")\n",
    "classify(\"A200d,\")"
   ]
  },
  {
   "cell_type": "markdown",
   "metadata": {},
   "source": [
    "## Create Prediction Set"
   ]
  },
  {
   "cell_type": "code",
   "execution_count": 11,
   "metadata": {
    "collapsed": false
   },
   "outputs": [
    {
     "name": "stdout",
     "output_type": "stream",
     "text": [
      "77\n",
      "['A160', 'A160 aut', 'A160d', 'A160d aut', 'A180', 'A180 aut', 'A180d', 'A180d aut', 'A200', 'A200 aut', 'A200d', 'A200d aut', 'A200d 4MATIC aut', 'A220 4MATIC', 'A220d', 'A220d 4MATIC aut', 'A250', 'A250 aut', 'A250 Sport', 'A250 Sport aut', 'A250 Sport 4MATIC aut.', 'A250 4MATIC aut', 'A160', 'A160 aut', 'A160d', 'A160d aut', 'A180', 'A180 aut', 'A180d', 'A180d aut', 'A200', 'A200 aut', 'A200d', 'A200d aut', 'A200d 4MATIC aut', 'A220 4MATIC', 'A220d', 'A220d 4MATIC aut', 'A250', 'A250 aut', 'A250 Sport', 'A250 Sport aut', 'A250 Sport 4MATIC aut.', 'A250 4MATIC aut', 'A160', 'A160 aut', 'A160d', 'A160d aut', 'A180', 'A180 aut', 'A180d', 'A180d aut Kombicoupe', 'A180d aut Kombicoupe', 'A200', 'A200 aut Kombicoupe', 'A200 aut Kombicoupe', 'A200 AMG Edition aut', 'A200 AMG Edition aut (K)', 'A200 AMG Edition Plus aut', 'A200 AMG Edition Plus aut (K)', 'A200 Progressive Edition aut', 'A200 Progressive Edition aut (K)', 'A200 Progressive Edition Plus aut', 'A200 Progressive Edition Plus aut (K)', 'A200d', 'A200d aut', 'A200d 4MATIC aut', 'A220 4MATIC', 'A220d', 'A220d 4MATIC aut', 'A250', 'A250 aut Kombicoupe', 'A250 aut Kombicoupe', 'A250 Sport', 'A250 Sport aut', 'A250 Sport 4MATIC aut.', 'A250 4MATIC aut']\n"
     ]
    }
   ],
   "source": [
    "spamReader = csv.reader(open('C:\\\\Users\\\\godes\\\\Desktop\\\\OFV_REGISTRERINGER_VIN_SAMI\\\\Gjensidige_Description.csv', \n",
    "                             newline=''), delimiter=',', quotechar='|')\n",
    "\n",
    "test_data = []\n",
    "\n",
    "for row in spamReader:\n",
    "    test_data.append(row[0])\n",
    "\n",
    "#remove frist class as it is the csv headers\n",
    "del test_data[0]\n",
    "\n",
    "print(len(test_data))\n",
    "#print(test_data)"
   ]
  },
  {
   "cell_type": "code",
   "execution_count": 12,
   "metadata": {
    "collapsed": false
   },
   "outputs": [
    {
     "name": "stdout",
     "output_type": "stream",
     "text": [
      "            class     score                               sentence\n",
      "0            A160  1.000000                                   A160\n",
      "1            A160  1.000000                               A160 aut\n",
      "2            A160  1.000000                                  A160d\n",
      "3            A160  1.000000                              A160d aut\n",
      "4            A180  0.333333                                   A180\n",
      "5            A180  0.333333                               A180 aut\n",
      "6           A180D  1.000000                                  A180d\n",
      "7           A180D  1.000000                              A180d aut\n",
      "8        A200 AMG  0.166667                                   A200\n",
      "9        A200 AMG  0.166667                               A200 aut\n",
      "10           A200  1.000000                                  A200d\n",
      "11           A200  1.000000                              A200d aut\n",
      "12           A200  1.000000                       A200d 4MATIC aut\n",
      "13        A220 4M  0.642857                            A220 4MATIC\n",
      "14        A220 4M  1.000000                                  A220d\n",
      "15        A220 4M  1.142857                       A220d 4MATIC aut\n",
      "16        A250 4M  0.333333                                   A250\n",
      "17        A250 4M  0.333333                               A250 aut\n",
      "18  A250 SPORT 4M  1.333333                             A250 Sport\n",
      "19  A250 SPORT 4M  1.333333                         A250 Sport aut\n",
      "20  A250 SPORT 4M  1.333333                 A250 Sport 4MATIC aut.\n",
      "21        A250 4M  0.333333                        A250 4MATIC aut\n",
      "22           A160  1.000000                                   A160\n",
      "23           A160  1.000000                               A160 aut\n",
      "24           A160  1.000000                                  A160d\n",
      "25           A160  1.000000                              A160d aut\n",
      "26           A180  0.333333                                   A180\n",
      "27           A180  0.333333                               A180 aut\n",
      "28          A180D  1.000000                                  A180d\n",
      "29          A180D  1.000000                              A180d aut\n",
      "..            ...       ...                                    ...\n",
      "47           A160  1.000000                              A160d aut\n",
      "48           A180  0.333333                                   A180\n",
      "49           A180  0.333333                               A180 aut\n",
      "50          A180D  1.000000                                  A180d\n",
      "51          A180D  1.000000                   A180d aut Kombicoupe\n",
      "52          A180D  1.000000                   A180d aut Kombicoupe\n",
      "53       A200 AMG  0.166667                                   A200\n",
      "54       A200 AMG  0.166667                    A200 aut Kombicoupe\n",
      "55       A200 AMG  0.166667                    A200 aut Kombicoupe\n",
      "56    GLC250 AMGP  0.214493                   A200 AMG Edition aut\n",
      "57    GLC250 AMGP  0.214493               A200 AMG Edition aut (K)\n",
      "58    GLC250 AMGP  0.714493              A200 AMG Edition Plus aut\n",
      "59    GLC250 AMGP  0.714493          A200 AMG Edition Plus aut (K)\n",
      "60    GLC250 AMGP  0.200000           A200 Progressive Edition aut\n",
      "61    GLC250 AMGP  0.200000       A200 Progressive Edition aut (K)\n",
      "62    GLC250 AMGP  0.700000      A200 Progressive Edition Plus aut\n",
      "63    GLC250 AMGP  0.700000  A200 Progressive Edition Plus aut (K)\n",
      "64           A200  1.000000                                  A200d\n",
      "65           A200  1.000000                              A200d aut\n",
      "66           A200  1.000000                       A200d 4MATIC aut\n",
      "67        A220 4M  0.642857                            A220 4MATIC\n",
      "68        A220 4M  1.000000                                  A220d\n",
      "69        A220 4M  1.142857                       A220d 4MATIC aut\n",
      "70        A250 4M  0.333333                                   A250\n",
      "71        A250 4M  0.333333                    A250 aut Kombicoupe\n",
      "72        A250 4M  0.333333                    A250 aut Kombicoupe\n",
      "73  A250 SPORT 4M  1.333333                             A250 Sport\n",
      "74  A250 SPORT 4M  1.333333                         A250 Sport aut\n",
      "75  A250 SPORT 4M  1.333333                 A250 Sport 4MATIC aut.\n",
      "76        A250 4M  0.333333                        A250 4MATIC aut\n",
      "\n",
      "[77 rows x 3 columns]\n"
     ]
    }
   ],
   "source": [
    "# Score all test data\n",
    "result = []\n",
    "for s in test_data:\n",
    "    r = classify(s)\n",
    "    result.append(r)\n",
    "\n",
    "\n",
    "df = pd.DataFrame(result)\n",
    "print(df)\n"
   ]
  },
  {
   "cell_type": "code",
   "execution_count": 117,
   "metadata": {
    "collapsed": false
   },
   "outputs": [],
   "source": [
    "#Save result\n",
    "df.to_csv(\"C:\\\\Users\\\\godes\\\\Desktop\\\\OFV_REGISTRERINGER_VIN_SAMI\\\\ResultsFromJupyter\\\\output.csv\",sep = \";\")"
   ]
  },
  {
   "cell_type": "code",
   "execution_count": 28,
   "metadata": {
    "collapsed": false
   },
   "outputs": [
    {
     "name": "stdout",
     "output_type": "stream",
     "text": [
      "            class     score                               sentence\n",
      "0            A160  1.000000                                   A160\n",
      "1            A160  1.000000                               A160 aut\n",
      "2            A160  1.000000                                  A160d\n",
      "3            A160  1.000000                              A160d aut\n",
      "4            A180  0.333333                                   A180\n",
      "5            A180  0.333333                               A180 aut\n",
      "6           A180D  1.000000                                  A180d\n",
      "7           A180D  1.000000                              A180d aut\n",
      "8        A200 AMG  0.166667                                   A200\n",
      "9        A200 AMG  0.166667                               A200 aut\n",
      "10           A200  1.000000                                  A200d\n",
      "11           A200  1.000000                              A200d aut\n",
      "12           A200  1.000000                       A200d 4MATIC aut\n",
      "13        A220 4M  0.642857                            A220 4MATIC\n",
      "14        A220 4M  1.000000                                  A220d\n",
      "15        A220 4M  1.142857                       A220d 4MATIC aut\n",
      "16        A250 4M  0.333333                                   A250\n",
      "17        A250 4M  0.333333                               A250 aut\n",
      "18  A250 SPORT 4M  1.333333                             A250 Sport\n",
      "19  A250 SPORT 4M  1.333333                         A250 Sport aut\n",
      "20  A250 SPORT 4M  1.333333                 A250 Sport 4MATIC aut.\n",
      "21        A250 4M  0.333333                        A250 4MATIC aut\n",
      "22           A160  1.000000                                   A160\n",
      "23           A160  1.000000                               A160 aut\n",
      "24           A160  1.000000                                  A160d\n",
      "25           A160  1.000000                              A160d aut\n",
      "26           A180  0.333333                                   A180\n",
      "27           A180  0.333333                               A180 aut\n",
      "28          A180D  1.000000                                  A180d\n",
      "29          A180D  1.000000                              A180d aut\n",
      "..            ...       ...                                    ...\n",
      "47           A160  1.000000                              A160d aut\n",
      "48           A180  0.333333                                   A180\n",
      "49           A180  0.333333                               A180 aut\n",
      "50          A180D  1.000000                                  A180d\n",
      "51          A180D  1.000000                   A180d aut Kombicoupe\n",
      "52          A180D  1.000000                   A180d aut Kombicoupe\n",
      "53       A200 AMG  0.166667                                   A200\n",
      "54       A200 AMG  0.166667                    A200 aut Kombicoupe\n",
      "55       A200 AMG  0.166667                    A200 aut Kombicoupe\n",
      "56    GLC250 AMGP  0.214493                   A200 AMG Edition aut\n",
      "57    GLC250 AMGP  0.214493               A200 AMG Edition aut (K)\n",
      "58    GLC250 AMGP  0.714493              A200 AMG Edition Plus aut\n",
      "59    GLC250 AMGP  0.714493          A200 AMG Edition Plus aut (K)\n",
      "60    GLC250 AMGP  0.200000           A200 Progressive Edition aut\n",
      "61    GLC250 AMGP  0.200000       A200 Progressive Edition aut (K)\n",
      "62    GLC250 AMGP  0.700000      A200 Progressive Edition Plus aut\n",
      "63    GLC250 AMGP  0.700000  A200 Progressive Edition Plus aut (K)\n",
      "64           A200  1.000000                                  A200d\n",
      "65           A200  1.000000                              A200d aut\n",
      "66           A200  1.000000                       A200d 4MATIC aut\n",
      "67        A220 4M  0.642857                            A220 4MATIC\n",
      "68        A220 4M  1.000000                                  A220d\n",
      "69        A220 4M  1.142857                       A220d 4MATIC aut\n",
      "70        A250 4M  0.333333                                   A250\n",
      "71        A250 4M  0.333333                    A250 aut Kombicoupe\n",
      "72        A250 4M  0.333333                    A250 aut Kombicoupe\n",
      "73  A250 SPORT 4M  1.333333                             A250 Sport\n",
      "74  A250 SPORT 4M  1.333333                         A250 Sport aut\n",
      "75  A250 SPORT 4M  1.333333                 A250 Sport 4MATIC aut.\n",
      "76        A250 4M  0.333333                        A250 4MATIC aut\n",
      "\n",
      "[77 rows x 3 columns]\n"
     ]
    }
   ],
   "source": [
    "#normalize result\n",
    "\n",
    "x = df['score'].values #returns a numpy array\n",
    "min_max_scaler = preprocessing.MinMaxScaler()\n",
    "x = x.reshape(-1,1)\n",
    "x_scaled = min_max_scaler.fit_transform(x)\n",
    "#print(x_scaled)\n",
    "\n",
    "#df_test = pd.DataFrame(x_scaled)\n",
    "#df_test = df.append(pd.DataFrame(x_scaled))\n",
    "\n",
    "print(df)"
   ]
  },
  {
   "cell_type": "code",
   "execution_count": 118,
   "metadata": {
    "collapsed": false
   },
   "outputs": [
    {
     "name": "stdout",
     "output_type": "stream",
     "text": [
      "Total count: {'A160': 12, 'A180 AMGP': 12, 'A180D': 7, 'A200 PRO': 7, 'A200': 9, 'A220 4M': 9, 'A250 4M': 10, 'A250 SPORT 4M': 9, 'AT EDITION P': 2}\n"
     ]
    }
   ],
   "source": [
    "count = {}\n",
    "\n",
    "for data in result:\n",
    "    c = data['class']\n",
    "    if c not in count:\n",
    "        count[c] = 1\n",
    "    else:\n",
    "        count[c] += 1    \n",
    "        \n",
    "print(\"Total count:\", count)"
   ]
  }
 ],
 "metadata": {
  "kernelspec": {
   "display_name": "Python 3",
   "language": "python",
   "name": "python3"
  },
  "language_info": {
   "codemirror_mode": {
    "name": "ipython",
    "version": 3
   },
   "file_extension": ".py",
   "mimetype": "text/x-python",
   "name": "python",
   "nbconvert_exporter": "python",
   "pygments_lexer": "ipython3",
   "version": "3.6.0"
  }
 },
 "nbformat": 4,
 "nbformat_minor": 2
}
